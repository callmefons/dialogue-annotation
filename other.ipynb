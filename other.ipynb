{
 "cells": [
  {
   "cell_type": "code",
   "execution_count": 154,
   "metadata": {},
   "outputs": [],
   "source": [
    "import pandas as pd"
   ]
  },
  {
   "cell_type": "code",
   "execution_count": 155,
   "metadata": {},
   "outputs": [],
   "source": [
    "df = pd.read_csv(\"results-20190604-173429.csv\");"
   ]
  },
  {
   "cell_type": "code",
   "execution_count": 156,
   "metadata": {},
   "outputs": [
    {
     "data": {
      "text/html": [
       "<div>\n",
       "<style scoped>\n",
       "    .dataframe tbody tr th:only-of-type {\n",
       "        vertical-align: middle;\n",
       "    }\n",
       "\n",
       "    .dataframe tbody tr th {\n",
       "        vertical-align: top;\n",
       "    }\n",
       "\n",
       "    .dataframe thead th {\n",
       "        text-align: right;\n",
       "    }\n",
       "</style>\n",
       "<table border=\"1\" class=\"dataframe\">\n",
       "  <thead>\n",
       "    <tr style=\"text-align: right;\">\n",
       "      <th></th>\n",
       "      <th>time</th>\n",
       "      <th>timeStart</th>\n",
       "      <th>timeStop</th>\n",
       "      <th>userId</th>\n",
       "      <th>userEmail</th>\n",
       "      <th>text</th>\n",
       "      <th>platform</th>\n",
       "      <th>intent</th>\n",
       "      <th>recordType</th>\n",
       "      <th>locale</th>\n",
       "      <th>responseText</th>\n",
       "      <th>conversationId</th>\n",
       "    </tr>\n",
       "  </thead>\n",
       "  <tbody>\n",
       "    <tr>\n",
       "      <th>0</th>\n",
       "      <td>2019-05-20T18:52:37+09:00</td>\n",
       "      <td>2019-05-20T17:37:17+09:00</td>\n",
       "      <td>2019-05-20T18:52:36+09:00</td>\n",
       "      <td>43.0</td>\n",
       "      <td>callmefons@gmail.com</td>\n",
       "      <td>stop walking</td>\n",
       "      <td>KEYBOARD</td>\n",
       "      <td>stop</td>\n",
       "      <td>stop</td>\n",
       "      <td>en-US</td>\n",
       "      <td>walking is stopped at 06:52:36 pm</td>\n",
       "      <td>ABwppHEyIX-I4J0xYbgjNAEPYhcWEI1NxAkwfDZZTNiqzi...</td>\n",
       "    </tr>\n",
       "    <tr>\n",
       "      <th>1</th>\n",
       "      <td>2019-05-20T18:53:55+09:00</td>\n",
       "      <td>2019-05-21T05:00:00+09:00</td>\n",
       "      <td>NaN</td>\n",
       "      <td>43.0</td>\n",
       "      <td>callmefons@gmail.com</td>\n",
       "      <td>walk at 5</td>\n",
       "      <td>KEYBOARD</td>\n",
       "      <td>talk</td>\n",
       "      <td>start</td>\n",
       "      <td>en-US</td>\n",
       "      <td>walking is started at 05:00:00 am</td>\n",
       "      <td>ABwppHEyIX-I4J0xYbgjNAEPYhcWEI1NxAkwfDZZTNiqzi...</td>\n",
       "    </tr>\n",
       "    <tr>\n",
       "      <th>2</th>\n",
       "      <td>2019-05-20T18:54:04+09:00</td>\n",
       "      <td>2019-05-21T05:00:00+09:00</td>\n",
       "      <td>2019-05-20T18:54:04+09:00</td>\n",
       "      <td>43.0</td>\n",
       "      <td>callmefons@gmail.com</td>\n",
       "      <td>stop walking</td>\n",
       "      <td>KEYBOARD</td>\n",
       "      <td>stop</td>\n",
       "      <td>fallback</td>\n",
       "      <td>en-US</td>\n",
       "      <td>Start time 05:00:00 am must be earlier than en...</td>\n",
       "      <td>ABwppHEyIX-I4J0xYbgjNAEPYhcWEI1NxAkwfDZZTNiqzi...</td>\n",
       "    </tr>\n",
       "    <tr>\n",
       "      <th>3</th>\n",
       "      <td>2019-05-20T18:54:35+09:00</td>\n",
       "      <td>2019-05-20T18:54:35+09:00</td>\n",
       "      <td>NaN</td>\n",
       "      <td>43.0</td>\n",
       "      <td>callmefons@gmail.com</td>\n",
       "      <td>walking</td>\n",
       "      <td>KEYBOARD</td>\n",
       "      <td>talk</td>\n",
       "      <td>time-start</td>\n",
       "      <td>en-US</td>\n",
       "      <td>When you have finished work?</td>\n",
       "      <td>ABwppHEyIX-I4J0xYbgjNAEPYhcWEI1NxAkwfDZZTNiqzi...</td>\n",
       "    </tr>\n",
       "    <tr>\n",
       "      <th>4</th>\n",
       "      <td>2019-05-20T18:55:31+09:00</td>\n",
       "      <td>NaN</td>\n",
       "      <td>NaN</td>\n",
       "      <td>43.0</td>\n",
       "      <td>callmefons@gmail.com</td>\n",
       "      <td>list</td>\n",
       "      <td>KEYBOARD</td>\n",
       "      <td>show</td>\n",
       "      <td>show</td>\n",
       "      <td>en-US</td>\n",
       "      <td>Activity: walking\\n\\n\\n\\t\\t\\t\\tTime: 05:00:00 ...</td>\n",
       "      <td>ABwppHEyIX-I4J0xYbgjNAEPYhcWEI1NxAkwfDZZTNiqzi...</td>\n",
       "    </tr>\n",
       "  </tbody>\n",
       "</table>\n",
       "</div>"
      ],
      "text/plain": [
       "                        time                  timeStart  \\\n",
       "0  2019-05-20T18:52:37+09:00  2019-05-20T17:37:17+09:00   \n",
       "1  2019-05-20T18:53:55+09:00  2019-05-21T05:00:00+09:00   \n",
       "2  2019-05-20T18:54:04+09:00  2019-05-21T05:00:00+09:00   \n",
       "3  2019-05-20T18:54:35+09:00  2019-05-20T18:54:35+09:00   \n",
       "4  2019-05-20T18:55:31+09:00                        NaN   \n",
       "\n",
       "                    timeStop  userId             userEmail          text  \\\n",
       "0  2019-05-20T18:52:36+09:00    43.0  callmefons@gmail.com  stop walking   \n",
       "1                        NaN    43.0  callmefons@gmail.com     walk at 5   \n",
       "2  2019-05-20T18:54:04+09:00    43.0  callmefons@gmail.com  stop walking   \n",
       "3                        NaN    43.0  callmefons@gmail.com       walking   \n",
       "4                        NaN    43.0  callmefons@gmail.com          list   \n",
       "\n",
       "   platform intent  recordType locale  \\\n",
       "0  KEYBOARD   stop        stop  en-US   \n",
       "1  KEYBOARD   talk       start  en-US   \n",
       "2  KEYBOARD   stop    fallback  en-US   \n",
       "3  KEYBOARD   talk  time-start  en-US   \n",
       "4  KEYBOARD   show        show  en-US   \n",
       "\n",
       "                                        responseText  \\\n",
       "0                  walking is stopped at 06:52:36 pm   \n",
       "1                  walking is started at 05:00:00 am   \n",
       "2  Start time 05:00:00 am must be earlier than en...   \n",
       "3                       When you have finished work?   \n",
       "4  Activity: walking\\n\\n\\n\\t\\t\\t\\tTime: 05:00:00 ...   \n",
       "\n",
       "                                      conversationId  \n",
       "0  ABwppHEyIX-I4J0xYbgjNAEPYhcWEI1NxAkwfDZZTNiqzi...  \n",
       "1  ABwppHEyIX-I4J0xYbgjNAEPYhcWEI1NxAkwfDZZTNiqzi...  \n",
       "2  ABwppHEyIX-I4J0xYbgjNAEPYhcWEI1NxAkwfDZZTNiqzi...  \n",
       "3  ABwppHEyIX-I4J0xYbgjNAEPYhcWEI1NxAkwfDZZTNiqzi...  \n",
       "4  ABwppHEyIX-I4J0xYbgjNAEPYhcWEI1NxAkwfDZZTNiqzi...  "
      ]
     },
     "execution_count": 156,
     "metadata": {},
     "output_type": "execute_result"
    }
   ],
   "source": [
    "df.head()"
   ]
  },
  {
   "cell_type": "code",
   "execution_count": 157,
   "metadata": {},
   "outputs": [],
   "source": [
    "df = df.loc[df['recordType'].isin(['fallback','clear','recording', 'show', 'show_activity_types'])]"
   ]
  },
  {
   "cell_type": "code",
   "execution_count": 158,
   "metadata": {},
   "outputs": [
    {
     "data": {
      "text/plain": [
       "time              350\n",
       "timeStart          65\n",
       "timeStop           12\n",
       "userId            346\n",
       "userEmail         346\n",
       "text              346\n",
       "platform          340\n",
       "intent            350\n",
       "recordType        350\n",
       "locale            346\n",
       "responseText      347\n",
       "conversationId    346\n",
       "dtype: int64"
      ]
     },
     "execution_count": 158,
     "metadata": {},
     "output_type": "execute_result"
    }
   ],
   "source": [
    "df.count()"
   ]
  },
  {
   "cell_type": "code",
   "execution_count": 159,
   "metadata": {},
   "outputs": [
    {
     "data": {
      "text/plain": [
       "832"
      ]
     },
     "execution_count": 159,
     "metadata": {},
     "output_type": "execute_result"
    }
   ],
   "source": [
    "recorded = 486\n",
    "df.text.count() + recorded"
   ]
  },
  {
   "cell_type": "code",
   "execution_count": 160,
   "metadata": {},
   "outputs": [],
   "source": [
    "df = df[['timeStart', 'timeStop', 'text', 'platform', 'intent', 'recordType', 'responseText']]"
   ]
  },
  {
   "cell_type": "code",
   "execution_count": 161,
   "metadata": {},
   "outputs": [],
   "source": [
    "df.to_csv(\"other.csv\")"
   ]
  },
  {
   "cell_type": "code",
   "execution_count": null,
   "metadata": {},
   "outputs": [],
   "source": []
  }
 ],
 "metadata": {
  "kernelspec": {
   "display_name": "Python 3",
   "language": "python",
   "name": "python3"
  },
  "language_info": {
   "codemirror_mode": {
    "name": "ipython",
    "version": 3
   },
   "file_extension": ".py",
   "mimetype": "text/x-python",
   "name": "python",
   "nbconvert_exporter": "python",
   "pygments_lexer": "ipython3",
   "version": "3.7.2"
  }
 },
 "nbformat": 4,
 "nbformat_minor": 2
}
