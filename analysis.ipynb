{
 "cells": [
  {
   "cell_type": "code",
   "execution_count": 1,
   "metadata": {},
   "outputs": [],
   "source": [
    "import pandas as pd\n",
    "import re"
   ]
  },
  {
   "cell_type": "code",
   "execution_count": 2,
   "metadata": {},
   "outputs": [
    {
     "data": {
      "text/html": [
       "<div>\n",
       "<style scoped>\n",
       "    .dataframe tbody tr th:only-of-type {\n",
       "        vertical-align: middle;\n",
       "    }\n",
       "\n",
       "    .dataframe tbody tr th {\n",
       "        vertical-align: top;\n",
       "    }\n",
       "\n",
       "    .dataframe thead th {\n",
       "        text-align: right;\n",
       "    }\n",
       "</style>\n",
       "<table border=\"1\" class=\"dataframe\">\n",
       "  <thead>\n",
       "    <tr style=\"text-align: right;\">\n",
       "      <th></th>\n",
       "      <th>userId</th>\n",
       "      <th>timeStart</th>\n",
       "      <th>timeStop</th>\n",
       "      <th>act</th>\n",
       "      <th>text</th>\n",
       "      <th>platform</th>\n",
       "      <th>intent</th>\n",
       "      <th>recordType</th>\n",
       "      <th>responseText</th>\n",
       "      <th>tag</th>\n",
       "    </tr>\n",
       "  </thead>\n",
       "  <tbody>\n",
       "    <tr>\n",
       "      <th>0</th>\n",
       "      <td>94.0</td>\n",
       "      <td>2019-05-13 12:31:54 +0900</td>\n",
       "      <td>NaN</td>\n",
       "      <td>SITTING</td>\n",
       "      <td>sitting</td>\n",
       "      <td>KEYBOARD</td>\n",
       "      <td>talk</td>\n",
       "      <td>start</td>\n",
       "      <td>SITTING is started at 12:31:54</td>\n",
       "      <td>0.0</td>\n",
       "    </tr>\n",
       "    <tr>\n",
       "      <th>1</th>\n",
       "      <td>94.0</td>\n",
       "      <td>2019-05-13 12:31:54 +0900</td>\n",
       "      <td>2019-05-13 12:37:10 +0900</td>\n",
       "      <td>SITTING</td>\n",
       "      <td>stop sitting</td>\n",
       "      <td>KEYBOARD</td>\n",
       "      <td>stop</td>\n",
       "      <td>stop</td>\n",
       "      <td>SITTING is stopped at 12:37:10</td>\n",
       "      <td>0.0</td>\n",
       "    </tr>\n",
       "    <tr>\n",
       "      <th>2</th>\n",
       "      <td>94.0</td>\n",
       "      <td>2019-05-13 12:42:03 +0900</td>\n",
       "      <td>NaN</td>\n",
       "      <td>SITTING</td>\n",
       "      <td>sitting</td>\n",
       "      <td>KEYBOARD</td>\n",
       "      <td>talk</td>\n",
       "      <td>start</td>\n",
       "      <td>SITTING is started at 12:42:03</td>\n",
       "      <td>0.0</td>\n",
       "    </tr>\n",
       "    <tr>\n",
       "      <th>3</th>\n",
       "      <td>94.0</td>\n",
       "      <td>2019-05-13 12:42:03 +0900</td>\n",
       "      <td>2019-05-13 12:48:03 +0900</td>\n",
       "      <td>SITTING</td>\n",
       "      <td>stop sitting</td>\n",
       "      <td>KEYBOARD</td>\n",
       "      <td>stop</td>\n",
       "      <td>stop</td>\n",
       "      <td>SITTING is stopped at 12:48:03</td>\n",
       "      <td>0.0</td>\n",
       "    </tr>\n",
       "    <tr>\n",
       "      <th>4</th>\n",
       "      <td>94.0</td>\n",
       "      <td>2019-05-13 12:42:34 +0900</td>\n",
       "      <td>NaN</td>\n",
       "      <td>IN_VEHICLE</td>\n",
       "      <td>vehicle</td>\n",
       "      <td>KEYBOARD</td>\n",
       "      <td>talk</td>\n",
       "      <td>start</td>\n",
       "      <td>IN_VEHICLE is started at 12:42:34</td>\n",
       "      <td>0.0</td>\n",
       "    </tr>\n",
       "  </tbody>\n",
       "</table>\n",
       "</div>"
      ],
      "text/plain": [
       "   userId                  timeStart                   timeStop         act  \\\n",
       "0    94.0  2019-05-13 12:31:54 +0900                        NaN     SITTING   \n",
       "1    94.0  2019-05-13 12:31:54 +0900  2019-05-13 12:37:10 +0900     SITTING   \n",
       "2    94.0  2019-05-13 12:42:03 +0900                        NaN     SITTING   \n",
       "3    94.0  2019-05-13 12:42:03 +0900  2019-05-13 12:48:03 +0900     SITTING   \n",
       "4    94.0  2019-05-13 12:42:34 +0900                        NaN  IN_VEHICLE   \n",
       "\n",
       "           text  platform intent recordType  \\\n",
       "0       sitting  KEYBOARD   talk      start   \n",
       "1  stop sitting  KEYBOARD   stop       stop   \n",
       "2       sitting  KEYBOARD   talk      start   \n",
       "3  stop sitting  KEYBOARD   stop       stop   \n",
       "4       vehicle  KEYBOARD   talk      start   \n",
       "\n",
       "                        responseText  tag  \n",
       "0     SITTING is started at 12:31:54  0.0  \n",
       "1     SITTING is stopped at 12:37:10  0.0  \n",
       "2     SITTING is started at 12:42:03  0.0  \n",
       "3     SITTING is stopped at 12:48:03  0.0  \n",
       "4  IN_VEHICLE is started at 12:42:34  0.0  "
      ]
     },
     "execution_count": 2,
     "metadata": {},
     "output_type": "execute_result"
    }
   ],
   "source": [
    "file_name = \"dialogue_combi.csv\"\n",
    "df = pd.read_csv(file_name)\n",
    "df.head()"
   ]
  },
  {
   "cell_type": "code",
   "execution_count": 3,
   "metadata": {},
   "outputs": [],
   "source": [
    "def percentage(num, total):\n",
    "    per = (num*100.0)/total\n",
    "    per = round(per, 1)\n",
    "    return per"
   ]
  },
  {
   "cell_type": "code",
   "execution_count": 4,
   "metadata": {},
   "outputs": [
    {
     "name": "stdout",
     "output_type": "stream",
     "text": [
      "total 808\n",
      "label 486\n",
      "other 322\n"
     ]
    }
   ],
   "source": [
    "total = df.text.count()\n",
    "label = df.dropna(subset=['tag']).text.count()\n",
    "other = df.text.count() - label\n",
    "print(\"total\", total)\n",
    "print(\"label\", label)\n",
    "print(\"other\", other)"
   ]
  },
  {
   "cell_type": "code",
   "execution_count": 5,
   "metadata": {
    "scrolled": false
   },
   "outputs": [
    {
     "data": {
      "text/plain": [
       "text\n",
       "show                60\n",
       "stop sitting        42\n",
       "sitting             32\n",
       "walking             32\n",
       "stop walking        28\n",
       "stop walk           25\n",
       "list up             19\n",
       "list                17\n",
       "stop stand          16\n",
       "clear               15\n",
       "sit                 13\n",
       "stop standing       12\n",
       "act                 11\n",
       "lying               11\n",
       "start sitting       11\n",
       "standing            11\n",
       "walk                10\n",
       "stand                9\n",
       "walking now          8\n",
       "start downstairs     7\n",
       "dtype: int64"
      ]
     },
     "execution_count": 5,
     "metadata": {},
     "output_type": "execute_result"
    }
   ],
   "source": [
    "df['text'] = df['text'].str.strip()\n",
    "df['count'] = df['text'].str.findall(r'(\\w+)').str.len()\n",
    "df.groupby([\"text\"]).size().sort_values(ascending=False).head(20)"
   ]
  },
  {
   "cell_type": "code",
   "execution_count": 6,
   "metadata": {},
   "outputs": [
    {
     "data": {
      "text/plain": [
       "count\n",
       "2.0    326\n",
       "1.0    293\n",
       "5.0     74\n",
       "4.0     68\n",
       "3.0     35\n",
       "dtype: int64"
      ]
     },
     "execution_count": 6,
     "metadata": {},
     "output_type": "execute_result"
    }
   ],
   "source": [
    "df.groupby([\"count\"]).size().sort_values(ascending=False).head()"
   ]
  },
  {
   "cell_type": "code",
   "execution_count": 7,
   "metadata": {},
   "outputs": [
    {
     "name": "stdout",
     "output_type": "stream",
     "text": [
      "n: 60\n",
      "7.4%\n",
      "\n",
      "n: 42\n",
      "5.2%\n",
      "\n",
      "n: 32\n",
      "4.0%\n",
      "\n",
      "n: 32\n",
      "4.0%\n",
      "\n",
      "n: 30\n",
      "3.7%\n",
      "\n",
      "n: 25\n",
      "3.1%\n",
      "\n",
      "n: 19\n",
      "2.4%\n",
      "\n",
      "n: 17\n",
      "2.1%\n",
      "\n",
      "n: 16\n",
      "2.0%\n",
      "\n",
      "n: 15\n",
      "1.9%\n",
      "\n",
      "n: 13\n",
      "1.6%\n",
      "\n",
      "n: 12\n",
      "1.5%\n",
      "\n",
      "n: 11\n",
      "1.4%\n",
      "\n",
      "n: 11\n",
      "1.4%\n",
      "\n",
      "n: 11\n",
      "1.4%\n",
      "\n",
      "n: 11\n",
      "1.4%\n",
      "\n",
      "n: 10\n",
      "1.2%\n",
      "\n",
      "n: 10\n",
      "1.2%\n",
      "\n",
      "n: 9\n",
      "1.1%\n",
      "\n",
      "n: 8\n",
      "1.0%\n",
      "\n"
     ]
    }
   ],
   "source": [
    "top_words = [60, 42, 32, 32, 30, 25, 19, 17, 16, 15, 13 ,12 ,11, 11, 11,11, 10 ,10, 9,8]\n",
    "\n",
    "for i in range(len(top_words)):\n",
    "    n = top_words[i]\n",
    "    print(\"n:\", + n)\n",
    "    print(str(percentage(n, total))+'%\\n')"
   ]
  },
  {
   "cell_type": "code",
   "execution_count": 8,
   "metadata": {},
   "outputs": [
    {
     "name": "stdout",
     "output_type": "stream",
     "text": [
      "n: 326\n",
      "40.3%\n",
      "\n",
      "n: 293\n",
      "36.3%\n",
      "\n",
      "n: 74\n",
      "9.2%\n",
      "\n",
      "n: 68\n",
      "8.4%\n",
      "\n",
      "n: 35\n",
      "4.3%\n",
      "\n"
     ]
    }
   ],
   "source": [
    "# 2.0    326\n",
    "# 1.0    293\n",
    "# 5.0     74\n",
    "# 4.0     68\n",
    "# 3.0     35\n",
    "len_utt = [326,293,74,68,35]\n",
    "\n",
    "for i in range(len(len_utt)):\n",
    "    n = len_utt[i]\n",
    "    print(\"n:\", + n)\n",
    "    print(str(percentage(n, total))+'%\\n')"
   ]
  },
  {
   "cell_type": "markdown",
   "metadata": {},
   "source": [
    "# Time expression"
   ]
  },
  {
   "cell_type": "code",
   "execution_count": 9,
   "metadata": {},
   "outputs": [
    {
     "data": {
      "text/plain": [
       "tag\n",
       "0.0    371\n",
       "1.0    101\n",
       "2.0     14\n",
       "dtype: int64"
      ]
     },
     "execution_count": 9,
     "metadata": {},
     "output_type": "execute_result"
    }
   ],
   "source": [
    "tag = df.dropna(subset=['tag'])\n",
    "tag.groupby([\"tag\"]).size()"
   ]
  },
  {
   "cell_type": "code",
   "execution_count": 10,
   "metadata": {},
   "outputs": [
    {
     "name": "stdout",
     "output_type": "stream",
     "text": [
      "486\n"
     ]
    }
   ],
   "source": [
    "print(df.tag.count())"
   ]
  },
  {
   "cell_type": "code",
   "execution_count": 11,
   "metadata": {},
   "outputs": [
    {
     "name": "stdout",
     "output_type": "stream",
     "text": [
      "Percent of present of all: 76.3%\n",
      "Percent of past of all: 20.8%\n",
      "Percent of future of all: 2.9%\n",
      "Percent of temp of all: 23.7%\n"
     ]
    }
   ],
   "source": [
    "print('Percent of present of all: '+str(percentage(371, label))+'%')\n",
    "# print('Percent of present now of all: '+str(percentage(11, label))+'%')\n",
    "print('Percent of past of all: '+str(percentage(101, label))+'%')\n",
    "print('Percent of future of all: '+str(percentage(14, label))+'%')\n",
    "print('Percent of temp of all: '+str(percentage(101+14, label))+'%')"
   ]
  },
  {
   "cell_type": "code",
   "execution_count": 12,
   "metadata": {},
   "outputs": [
    {
     "data": {
      "text/plain": [
       "115"
      ]
     },
     "execution_count": 12,
     "metadata": {},
     "output_type": "execute_result"
    }
   ],
   "source": [
    "# all_temp = 11+101+14\n",
    "# all_temp = 101+14\n",
    "all_temp = 101+14\n",
    "all_temp"
   ]
  },
  {
   "cell_type": "code",
   "execution_count": 13,
   "metadata": {},
   "outputs": [
    {
     "name": "stdout",
     "output_type": "stream",
     "text": [
      "Percent of past: 87.8%\n",
      "Percent of future: 12.2%\n"
     ]
    }
   ],
   "source": [
    "print('Percent of past: '+str(percentage(101, all_temp))+'%')\n",
    "print('Percent of future: '+str(percentage(14, all_temp))+'%')\n",
    "# print('Percent of present: '+str(percentage(11, all_temp))+'%')"
   ]
  },
  {
   "cell_type": "code",
   "execution_count": 14,
   "metadata": {},
   "outputs": [
    {
     "data": {
      "text/plain": [
       "tag  recordType\n",
       "0.0  start         186\n",
       "     stop          185\n",
       "1.0  start          47\n",
       "     stop           54\n",
       "2.0  start          14\n",
       "dtype: int64"
      ]
     },
     "execution_count": 14,
     "metadata": {},
     "output_type": "execute_result"
    }
   ],
   "source": [
    "df.groupby([\"tag\", \"recordType\"]).size()"
   ]
  },
  {
   "cell_type": "code",
   "execution_count": 15,
   "metadata": {},
   "outputs": [
    {
     "name": "stdout",
     "output_type": "stream",
     "text": [
      "Percent of past start: 46.5%\n",
      "Percent of past stop: 53.5%\n"
     ]
    }
   ],
   "source": [
    "print('Percent of past start: '+str(percentage(47, 101))+'%')\n",
    "print('Percent of past stop: '+str(percentage(54, 101))+'%')"
   ]
  },
  {
   "cell_type": "code",
   "execution_count": 16,
   "metadata": {},
   "outputs": [
    {
     "name": "stdout",
     "output_type": "stream",
     "text": [
      "Percent of past start: 100.0%\n",
      "Percent of past stop: 0.0%\n"
     ]
    }
   ],
   "source": [
    "print('Percent of past start: '+str(percentage(14, 14))+'%')\n",
    "print('Percent of past stop: '+str(percentage(0, 14))+'%')"
   ]
  },
  {
   "cell_type": "code",
   "execution_count": 17,
   "metadata": {},
   "outputs": [],
   "source": [
    "# time_passed"
   ]
  },
  {
   "cell_type": "code",
   "execution_count": 18,
   "metadata": {},
   "outputs": [],
   "source": [
    "time_passed = df.dropna(subset=['tag']);\n",
    "time_passed = time_passed[time_passed['tag'] != 0.0]\n",
    "time_passed = time_passed[time_passed['tag'] != 1.0]\n",
    "time_passed = time_passed[time_passed['recordType'] == \"start\"]\n",
    "time_passed = time_passed[time_passed['text'].str.contains('\\d', regex=True, na=False)]"
   ]
  },
  {
   "cell_type": "code",
   "execution_count": 19,
   "metadata": {},
   "outputs": [
    {
     "data": {
      "text/html": [
       "<div>\n",
       "<style scoped>\n",
       "    .dataframe tbody tr th:only-of-type {\n",
       "        vertical-align: middle;\n",
       "    }\n",
       "\n",
       "    .dataframe tbody tr th {\n",
       "        vertical-align: top;\n",
       "    }\n",
       "\n",
       "    .dataframe thead th {\n",
       "        text-align: right;\n",
       "    }\n",
       "</style>\n",
       "<table border=\"1\" class=\"dataframe\">\n",
       "  <thead>\n",
       "    <tr style=\"text-align: right;\">\n",
       "      <th></th>\n",
       "      <th>userId</th>\n",
       "      <th>timeStart</th>\n",
       "      <th>timeStop</th>\n",
       "      <th>act</th>\n",
       "      <th>text</th>\n",
       "      <th>platform</th>\n",
       "      <th>intent</th>\n",
       "      <th>recordType</th>\n",
       "      <th>responseText</th>\n",
       "      <th>tag</th>\n",
       "      <th>count</th>\n",
       "    </tr>\n",
       "  </thead>\n",
       "  <tbody>\n",
       "    <tr>\n",
       "      <th>206</th>\n",
       "      <td>100.0</td>\n",
       "      <td>2019-05-13 14:35:33 +0900</td>\n",
       "      <td>NaN</td>\n",
       "      <td>WALKING</td>\n",
       "      <td>walking in 2 minutes</td>\n",
       "      <td>VOICE</td>\n",
       "      <td>talk</td>\n",
       "      <td>start</td>\n",
       "      <td>WALKING is started at 14:35:33</td>\n",
       "      <td>2.0</td>\n",
       "      <td>4.0</td>\n",
       "    </tr>\n",
       "    <tr>\n",
       "      <th>220</th>\n",
       "      <td>100.0</td>\n",
       "      <td>2019-05-14 12:32:26 +0900</td>\n",
       "      <td>NaN</td>\n",
       "      <td>WALKING</td>\n",
       "      <td>walking in 10 minutes</td>\n",
       "      <td>VOICE</td>\n",
       "      <td>talk</td>\n",
       "      <td>start</td>\n",
       "      <td>WALKING is started at 12:32:26</td>\n",
       "      <td>2.0</td>\n",
       "      <td>4.0</td>\n",
       "    </tr>\n",
       "    <tr>\n",
       "      <th>226</th>\n",
       "      <td>100.0</td>\n",
       "      <td>2019-05-14 13:03:44 +0900</td>\n",
       "      <td>NaN</td>\n",
       "      <td>STANDING</td>\n",
       "      <td>stand in 5 minutes</td>\n",
       "      <td>KEYBOARD</td>\n",
       "      <td>talk</td>\n",
       "      <td>start</td>\n",
       "      <td>STANDING is started at 13:03:44</td>\n",
       "      <td>2.0</td>\n",
       "      <td>4.0</td>\n",
       "    </tr>\n",
       "    <tr>\n",
       "      <th>264</th>\n",
       "      <td>103.0</td>\n",
       "      <td>2019-05-14 09:27:16 +0900</td>\n",
       "      <td>NaN</td>\n",
       "      <td>WALKING</td>\n",
       "      <td>walking  in 2 minutes</td>\n",
       "      <td>VOICE</td>\n",
       "      <td>talk</td>\n",
       "      <td>start</td>\n",
       "      <td>WALKING is started at 09:27:16</td>\n",
       "      <td>2.0</td>\n",
       "      <td>4.0</td>\n",
       "    </tr>\n",
       "    <tr>\n",
       "      <th>265</th>\n",
       "      <td>103.0</td>\n",
       "      <td>2019-05-14 09:30:05 +0900</td>\n",
       "      <td>NaN</td>\n",
       "      <td>DOWNSTAIRS</td>\n",
       "      <td>going down in 3 minutes</td>\n",
       "      <td>VOICE</td>\n",
       "      <td>talk</td>\n",
       "      <td>start</td>\n",
       "      <td>DOWNSTAIRS is started at 09:30:05</td>\n",
       "      <td>2.0</td>\n",
       "      <td>5.0</td>\n",
       "    </tr>\n",
       "  </tbody>\n",
       "</table>\n",
       "</div>"
      ],
      "text/plain": [
       "     userId                  timeStart timeStop         act  \\\n",
       "206   100.0  2019-05-13 14:35:33 +0900      NaN     WALKING   \n",
       "220   100.0  2019-05-14 12:32:26 +0900      NaN     WALKING   \n",
       "226   100.0  2019-05-14 13:03:44 +0900      NaN    STANDING   \n",
       "264   103.0  2019-05-14 09:27:16 +0900      NaN     WALKING   \n",
       "265   103.0  2019-05-14 09:30:05 +0900      NaN  DOWNSTAIRS   \n",
       "\n",
       "                        text  platform intent recordType  \\\n",
       "206     walking in 2 minutes     VOICE   talk      start   \n",
       "220    walking in 10 minutes     VOICE   talk      start   \n",
       "226       stand in 5 minutes  KEYBOARD   talk      start   \n",
       "264    walking  in 2 minutes     VOICE   talk      start   \n",
       "265  going down in 3 minutes     VOICE   talk      start   \n",
       "\n",
       "                          responseText  tag  count  \n",
       "206     WALKING is started at 14:35:33  2.0    4.0  \n",
       "220     WALKING is started at 12:32:26  2.0    4.0  \n",
       "226    STANDING is started at 13:03:44  2.0    4.0  \n",
       "264     WALKING is started at 09:27:16  2.0    4.0  \n",
       "265  DOWNSTAIRS is started at 09:30:05  2.0    5.0  "
      ]
     },
     "execution_count": 19,
     "metadata": {},
     "output_type": "execute_result"
    }
   ],
   "source": [
    "time_passed.head()"
   ]
  },
  {
   "cell_type": "code",
   "execution_count": 20,
   "metadata": {},
   "outputs": [],
   "source": [
    "less_than_5 = []\n",
    "less_than_10 = []\n",
    "other = []\n",
    "for line in time_passed.text:\n",
    "    m = re.findall(r'\\d+', line)\n",
    "    if int(m[0]) < 5:\n",
    "        less_than_5.append(line)\n",
    "    elif int(m[0]) >= 5 and int(m[0]) <= 10:\n",
    "        less_than_10.append(line)\n",
    "    else:\n",
    "        other.append(line)"
   ]
  },
  {
   "cell_type": "code",
   "execution_count": 21,
   "metadata": {},
   "outputs": [
    {
     "name": "stdout",
     "output_type": "stream",
     "text": [
      "11\n",
      "2\n",
      "1\n",
      "14\n"
     ]
    }
   ],
   "source": [
    "print(len(less_than_5))\n",
    "print(len(less_than_10))\n",
    "print(len(other))\n",
    "print(time_passed.text.count())"
   ]
  },
  {
   "cell_type": "code",
   "execution_count": 22,
   "metadata": {},
   "outputs": [],
   "source": [
    "#50 #46 #14 #96\n",
    "all_timepassed = 110\n",
    "# all_timepassed = time_passed.text.count()"
   ]
  },
  {
   "cell_type": "code",
   "execution_count": 23,
   "metadata": {},
   "outputs": [
    {
     "name": "stdout",
     "output_type": "stream",
     "text": [
      "Percent of less_than_5: 10.0%\n",
      "Percent of less_than_10: 1.8%\n",
      "Percent of other: 0.9%\n"
     ]
    }
   ],
   "source": [
    "print('Percent of less_than_5: '+str(percentage(len(less_than_5), all_timepassed))+'%')\n",
    "print('Percent of less_than_10: '+str(percentage(len(less_than_10), all_timepassed))+'%')\n",
    "print('Percent of other: '+str(percentage(len(other), all_timepassed))+'%')"
   ]
  },
  {
   "cell_type": "code",
   "execution_count": 44,
   "metadata": {},
   "outputs": [
    {
     "name": "stdout",
     "output_type": "stream",
     "text": [
      "12.600000000000001\n",
      "35.5\n",
      "37.3\n",
      "100.00000000000001\n"
     ]
    }
   ],
   "source": [
    "# start before\n",
    "# Percent of less_than_5: 10.0%\n",
    "# Percent of less_than_10: 1.8%\n",
    "# Percent of other: 0.8%\n",
    "\n",
    "#start\n",
    "# Percent of less_than_5: 17.3%\n",
    "# Percent of less_than_10: 18.2%\n",
    "# Percent of other: 6.4%\n",
    "\n",
    "#stop\n",
    "# Percent of less_than_5: 16.4%\n",
    "# Percent of less_than_10: 20.9%\n",
    "# Percent of other: 8.2%\n",
    "\n",
    "print(10.0 + 1.8 + 0.8)\n",
    "print(17.3 + 18.2)\n",
    "print(16.4 + 20.9)\n",
    "print(10.0 + 1.8 + 0.8 + 17.3 + 18.2 + 6.4 + 16.4 + 20.9 + 8.2)"
   ]
  },
  {
   "cell_type": "code",
   "execution_count": 25,
   "metadata": {},
   "outputs": [],
   "source": [
    "KEYBOARD = df[df['platform']== \"KEYBOARD\"].platform.count()\n",
    "VOICE = df[df['platform']== \"VOICE\"].platform.count()"
   ]
  },
  {
   "cell_type": "code",
   "execution_count": 26,
   "metadata": {},
   "outputs": [
    {
     "name": "stdout",
     "output_type": "stream",
     "text": [
      "Percent of KEYBOARD: 25.9%\n",
      "Percent of VOICE: 74.0%\n"
     ]
    }
   ],
   "source": [
    "print('Percent of KEYBOARD: '+str(percentage(KEYBOARD, df.platform.count()))+'%')\n",
    "print('Percent of VOICE: '+str(percentage(VOICE, df.platform.count()))+'%')"
   ]
  },
  {
   "cell_type": "code",
   "execution_count": 27,
   "metadata": {},
   "outputs": [
    {
     "name": "stdout",
     "output_type": "stream",
     "text": [
      "128\n",
      "Percent of fallback: 15.8%\n",
      "Complete rate 84.2\n"
     ]
    }
   ],
   "source": [
    "fallback = df[df['recordType']== \"fallback\"].recordType.count()\n",
    "# fallback = df[df['intent']== \"fallback\"].recordType.count()\n",
    "\n",
    "print(fallback)\n",
    "print('Percent of fallback: '+str(percentage(fallback, df.text.count()))+'%')\n",
    "print('Complete rate', 100 - percentage(fallback, df.text.count()))"
   ]
  },
  {
   "cell_type": "code",
   "execution_count": 28,
   "metadata": {},
   "outputs": [
    {
     "data": {
      "text/plain": [
       "486    stop walking\n",
       "494      millennium\n",
       "495          eating\n",
       "498         Not now\n",
       "500         stopped\n",
       "Name: text, dtype: object"
      ]
     },
     "execution_count": 28,
     "metadata": {},
     "output_type": "execute_result"
    }
   ],
   "source": [
    "df[df['recordType']== \"fallback\"].text.str.strip().head()"
   ]
  },
  {
   "cell_type": "code",
   "execution_count": 29,
   "metadata": {},
   "outputs": [
    {
     "name": "stdout",
     "output_type": "stream",
     "text": [
      "80\n",
      "Percent of fallback: 9.9%\n",
      "Complete rate 90.1\n"
     ]
    }
   ],
   "source": [
    "fallback = df[df['intent']== \"fallback\"].recordType.count()\n",
    "print(fallback)\n",
    "print('Percent of fallback: '+str(percentage(fallback, df.text.count()))+'%')\n",
    "print('Complete rate', 100 - percentage(fallback, df.text.count()))"
   ]
  },
  {
   "cell_type": "code",
   "execution_count": 30,
   "metadata": {},
   "outputs": [
    {
     "name": "stdout",
     "output_type": "stream",
     "text": [
      "Percent of fallback fallback: 62.5%\n"
     ]
    }
   ],
   "source": [
    "print('Percent of fallback fallback: '+str(percentage(80, 128))+'%')"
   ]
  },
  {
   "cell_type": "code",
   "execution_count": 31,
   "metadata": {},
   "outputs": [
    {
     "data": {
      "text/plain": [
       "5.9"
      ]
     },
     "execution_count": 31,
     "metadata": {},
     "output_type": "execute_result"
    }
   ],
   "source": [
    "15.8 - 9.9"
   ]
  },
  {
   "cell_type": "code",
   "execution_count": 32,
   "metadata": {},
   "outputs": [
    {
     "name": "stdout",
     "output_type": "stream",
     "text": [
      "486\n",
      "Present 371\n",
      "Past 101\n",
      "Future 14\n"
     ]
    }
   ],
   "source": [
    "df['time'] = df.tag.map({0.0:\"Present\",1.0:\"Past\",2.0:\"Future\"})\n",
    "print(df['time'].count())\n",
    "print(\"Present\", df[df['time'] == \"Present\"].time.count())\n",
    "print(\"Past\", df[df['time'] == \"Past\"].time.count())\n",
    "print(\"Future\", df[df['time'] == \"Future\"].time.count())"
   ]
  },
  {
   "cell_type": "code",
   "execution_count": 33,
   "metadata": {},
   "outputs": [
    {
     "name": "stdout",
     "output_type": "stream",
     "text": [
      "Percent of Present: 76.3%\n",
      "Percent of Past: 20.8%\n",
      "Percent of fFuture: 2.9%\n"
     ]
    }
   ],
   "source": [
    "print('Percent of Present: '+str(percentage(df[df['time'] == \"Present\"].time.count(), df['time'].count()))+'%')\n",
    "print('Percent of Past: '+str(percentage(df[df['time'] == \"Past\"].time.count(), df['time'].count()))+'%')\n",
    "print('Percent of fFuture: '+str(percentage(df[df['time'] == \"Future\"].time.count(), df['time'].count()))+'%')"
   ]
  },
  {
   "cell_type": "code",
   "execution_count": 34,
   "metadata": {},
   "outputs": [
    {
     "name": "stdout",
     "output_type": "stream",
     "text": [
      "Percent of walk: 27.6%\n",
      "Percent of sit: 30.5%\n"
     ]
    }
   ],
   "source": [
    "print('Percent of walk: '+str(percentage(df[df['act'] == \"WALKING\"].time.count(), df['act'].count()))+'%')\n",
    "print('Percent of sit: '+str(percentage(df[df['act'] == \"SITTING\"].time.count(), df['act'].count()))+'%')\n"
   ]
  },
  {
   "cell_type": "code",
   "execution_count": 50,
   "metadata": {},
   "outputs": [
    {
     "data": {
      "image/png": "[encoded data removed]",
      "text/plain": [
       "<Figure size 432x216 with 2 Axes>"
      ]
     },
     "metadata": {
      "needs_background": "light"
     },
     "output_type": "display_data"
    }
   ],
   "source": [
    "import matplotlib.pyplot as plt\n",
    "%matplotlib inline\n",
    "\n",
    "    \n",
    "data = {'2': 40.30, '1': 36.30, '5': 9.20, '4': 8.40, '3':4.30}\n",
    "data2 = {'VOICE': 74.0, 'KEYBOARD': 25.9}\n",
    "names = list(data.keys())\n",
    "values = list(data.values())\n",
    "\n",
    "fig, axs = plt.subplots(1, 2, figsize=(6, 3), sharey=True)\n",
    "axs[0].bar(names, values)\n",
    "axs[0].set_ylabel('Percent')\n",
    "axs[0].set_xlabel('Word count')\n",
    "# axs[0].set_title('Wount count')\n",
    "\n",
    "axs[1].bar(data2.keys(), data2.values())\n",
    "axs[1].set_ylabel('Percent')\n",
    "axs[1].set_xlabel('Type')\n",
    "# axs[1].set_title('Type')\n",
    "# axs[2].plot(names, values)\n",
    "# fig.suptitle('Categorical Plotting')\n",
    "\n",
    "plt.savefig(\"plot.png\")"
   ]
  },
  {
   "cell_type": "code",
   "execution_count": null,
   "metadata": {},
   "outputs": [],
   "source": []
  }
 ],
 "metadata": {
  "kernelspec": {
   "display_name": "Python 3",
   "language": "python",
   "name": "python3"
  },
  "language_info": {
   "codemirror_mode": {
    "name": "ipython",
    "version": 3
   },
   "file_extension": ".py",
   "mimetype": "text/x-python",
   "name": "python",
   "nbconvert_exporter": "python",
   "pygments_lexer": "ipython3",
   "version": "3.7.2"
  }
 },
 "nbformat": 4,
 "nbformat_minor": 2
}
