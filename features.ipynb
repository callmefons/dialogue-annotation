{
 "cells": [
  {
   "cell_type": "code",
   "execution_count": 295,
   "metadata": {
    "collapsed": true
   },
   "outputs": [],
   "source": [
    "import pandas as pd\n",
    "import datetime "
   ]
  },
  {
   "cell_type": "code",
   "execution_count": 296,
   "metadata": {
    "collapsed": true
   },
   "outputs": [],
   "source": [
    "df_features = pd.read_csv('features.csv')"
   ]
  },
  {
   "cell_type": "code",
   "execution_count": 297,
   "metadata": {},
   "outputs": [
    {
     "data": {
      "text/html": [
       "<div>\n",
       "<table border=\"1\" class=\"dataframe\">\n",
       "  <thead>\n",
       "    <tr style=\"text-align: right;\">\n",
       "      <th></th>\n",
       "      <th>time</th>\n",
       "      <th>user</th>\n",
       "      <th>mean_x</th>\n",
       "      <th>max_x</th>\n",
       "      <th>min_x</th>\n",
       "      <th>sd_x</th>\n",
       "      <th>mean_y</th>\n",
       "      <th>max_y</th>\n",
       "      <th>min_y</th>\n",
       "      <th>sd_y</th>\n",
       "      <th>mean_z</th>\n",
       "      <th>max_z</th>\n",
       "      <th>min_z</th>\n",
       "      <th>sd_z</th>\n",
       "    </tr>\n",
       "  </thead>\n",
       "  <tbody>\n",
       "    <tr>\n",
       "      <th>0</th>\n",
       "      <td>2019-05-17 13:53:00 UTC</td>\n",
       "      <td>104</td>\n",
       "      <td>-0.112143</td>\n",
       "      <td>0.038</td>\n",
       "      <td>-0.229</td>\n",
       "      <td>0.040852</td>\n",
       "      <td>-0.740824</td>\n",
       "      <td>-0.651</td>\n",
       "      <td>-0.842</td>\n",
       "      <td>0.041966</td>\n",
       "      <td>-9.777671</td>\n",
       "      <td>-9.776</td>\n",
       "      <td>-9.780</td>\n",
       "      <td>0.000790</td>\n",
       "    </tr>\n",
       "    <tr>\n",
       "      <th>1</th>\n",
       "      <td>2019-05-17 16:21:00 UTC</td>\n",
       "      <td>105</td>\n",
       "      <td>-0.332804</td>\n",
       "      <td>-0.268</td>\n",
       "      <td>-0.421</td>\n",
       "      <td>0.038889</td>\n",
       "      <td>0.692818</td>\n",
       "      <td>0.804</td>\n",
       "      <td>0.574</td>\n",
       "      <td>0.032089</td>\n",
       "      <td>9.776316</td>\n",
       "      <td>9.777</td>\n",
       "      <td>9.775</td>\n",
       "      <td>0.000533</td>\n",
       "    </tr>\n",
       "    <tr>\n",
       "      <th>2</th>\n",
       "      <td>2019-05-12 12:27:00 UTC</td>\n",
       "      <td>104</td>\n",
       "      <td>-2.152680</td>\n",
       "      <td>-2.030</td>\n",
       "      <td>-2.260</td>\n",
       "      <td>0.041724</td>\n",
       "      <td>-0.429087</td>\n",
       "      <td>-0.344</td>\n",
       "      <td>-0.498</td>\n",
       "      <td>0.040463</td>\n",
       "      <td>9.558065</td>\n",
       "      <td>9.563</td>\n",
       "      <td>9.554</td>\n",
       "      <td>0.001730</td>\n",
       "    </tr>\n",
       "    <tr>\n",
       "      <th>3</th>\n",
       "      <td>2019-05-13 07:39:00 UTC</td>\n",
       "      <td>99</td>\n",
       "      <td>-2.138247</td>\n",
       "      <td>5.142</td>\n",
       "      <td>-14.298</td>\n",
       "      <td>5.326790</td>\n",
       "      <td>-7.465437</td>\n",
       "      <td>-0.938</td>\n",
       "      <td>-13.465</td>\n",
       "      <td>2.582436</td>\n",
       "      <td>1.855063</td>\n",
       "      <td>5.209</td>\n",
       "      <td>-0.948</td>\n",
       "      <td>1.345828</td>\n",
       "    </tr>\n",
       "    <tr>\n",
       "      <th>4</th>\n",
       "      <td>2019-05-15 15:49:00 UTC</td>\n",
       "      <td>104</td>\n",
       "      <td>0.471843</td>\n",
       "      <td>0.612</td>\n",
       "      <td>0.383</td>\n",
       "      <td>0.037730</td>\n",
       "      <td>-0.305190</td>\n",
       "      <td>-0.191</td>\n",
       "      <td>-0.383</td>\n",
       "      <td>0.041807</td>\n",
       "      <td>9.790620</td>\n",
       "      <td>9.792</td>\n",
       "      <td>9.789</td>\n",
       "      <td>0.000566</td>\n",
       "    </tr>\n",
       "  </tbody>\n",
       "</table>\n",
       "</div>"
      ],
      "text/plain": [
       "                      time  user    mean_x  max_x   min_x      sd_x    mean_y  \\\n",
       "0  2019-05-17 13:53:00 UTC   104 -0.112143  0.038  -0.229  0.040852 -0.740824   \n",
       "1  2019-05-17 16:21:00 UTC   105 -0.332804 -0.268  -0.421  0.038889  0.692818   \n",
       "2  2019-05-12 12:27:00 UTC   104 -2.152680 -2.030  -2.260  0.041724 -0.429087   \n",
       "3  2019-05-13 07:39:00 UTC    99 -2.138247  5.142 -14.298  5.326790 -7.465437   \n",
       "4  2019-05-15 15:49:00 UTC   104  0.471843  0.612   0.383  0.037730 -0.305190   \n",
       "\n",
       "   max_y   min_y      sd_y    mean_z  max_z  min_z      sd_z  \n",
       "0 -0.651  -0.842  0.041966 -9.777671 -9.776 -9.780  0.000790  \n",
       "1  0.804   0.574  0.032089  9.776316  9.777  9.775  0.000533  \n",
       "2 -0.344  -0.498  0.040463  9.558065  9.563  9.554  0.001730  \n",
       "3 -0.938 -13.465  2.582436  1.855063  5.209 -0.948  1.345828  \n",
       "4 -0.191  -0.383  0.041807  9.790620  9.792  9.789  0.000566  "
      ]
     },
     "execution_count": 297,
     "metadata": {},
     "output_type": "execute_result"
    }
   ],
   "source": [
    "df_features.head()"
   ]
  },
  {
   "cell_type": "code",
   "execution_count": 298,
   "metadata": {},
   "outputs": [],
   "source": [
    "user_id = [95]\n",
    "df_features['time'] = pd.to_datetime(df_features['time'])\n",
    "start_date = '2019-05-13'\n",
    "stop_date = '2019-05-14'\n",
    "startDate=pd.to_datetime(start_date)\n",
    "endDate=pd.to_datetime(stop_date)\n",
    "\n",
    "df_features = df_features.loc[(df_features['time']>=start_date) & (df_features['time']<=stop_date)]\n",
    "df_features = df_features.loc[df_features['user'].isin(user_id)]"
   ]
  },
  {
   "cell_type": "code",
   "execution_count": 299,
   "metadata": {},
   "outputs": [
    {
     "data": {
      "text/plain": [
       "time      113\n",
       "user      113\n",
       "mean_x    113\n",
       "max_x     113\n",
       "min_x     113\n",
       "sd_x      113\n",
       "mean_y    113\n",
       "max_y     113\n",
       "min_y     113\n",
       "sd_y      113\n",
       "mean_z    113\n",
       "max_z     113\n",
       "min_z     113\n",
       "sd_z      113\n",
       "dtype: int64"
      ]
     },
     "execution_count": 299,
     "metadata": {},
     "output_type": "execute_result"
    }
   ],
   "source": [
    "df_features.count()"
   ]
  },
  {
   "cell_type": "code",
   "execution_count": 294,
   "metadata": {},
   "outputs": [
    {
     "data": {
      "text/html": [
       "<div>\n",
       "<table border=\"1\" class=\"dataframe\">\n",
       "  <thead>\n",
       "    <tr style=\"text-align: right;\">\n",
       "      <th></th>\n",
       "      <th>time</th>\n",
       "      <th>user</th>\n",
       "      <th>mean_x</th>\n",
       "      <th>max_x</th>\n",
       "      <th>min_x</th>\n",
       "      <th>sd_x</th>\n",
       "      <th>mean_y</th>\n",
       "      <th>max_y</th>\n",
       "      <th>min_y</th>\n",
       "      <th>sd_y</th>\n",
       "      <th>mean_z</th>\n",
       "      <th>max_z</th>\n",
       "      <th>min_z</th>\n",
       "      <th>sd_z</th>\n",
       "    </tr>\n",
       "  </thead>\n",
       "  <tbody>\n",
       "  </tbody>\n",
       "</table>\n",
       "</div>"
      ],
      "text/plain": [
       "Empty DataFrame\n",
       "Columns: [time, user, mean_x, max_x, min_x, sd_x, mean_y, max_y, min_y, sd_y, mean_z, max_z, min_z, sd_z]\n",
       "Index: []"
      ]
     },
     "execution_count": 294,
     "metadata": {},
     "output_type": "execute_result"
    }
   ],
   "source": [
    "df_features.head()"
   ]
  },
  {
   "cell_type": "code",
   "execution_count": null,
   "metadata": {
    "collapsed": true
   },
   "outputs": [],
   "source": []
  },
  {
   "cell_type": "code",
   "execution_count": null,
   "metadata": {
    "collapsed": true
   },
   "outputs": [],
   "source": []
  }
 ],
 "metadata": {
  "kernelspec": {
   "display_name": "Python 3",
   "language": "python",
   "name": "python3"
  },
  "language_info": {
   "codemirror_mode": {
    "name": "ipython",
    "version": 3
   },
   "file_extension": ".py",
   "mimetype": "text/x-python",
   "name": "python",
   "nbconvert_exporter": "python",
   "pygments_lexer": "ipython3",
   "version": "3.7.2"
  }
 },
 "nbformat": 4,
 "nbformat_minor": 1
}
