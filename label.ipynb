{
 "cells": [
  {
   "cell_type": "code",
   "execution_count": 54,
   "metadata": {},
   "outputs": [],
   "source": [
    "import pandas as pd\n",
    "import datetime "
   ]
  },
  {
   "cell_type": "code",
   "execution_count": 55,
   "metadata": {},
   "outputs": [],
   "source": [
    "# user_id = [103]\n",
    "# start_date = '2019-05-13'\n",
    "# stop_date = '2019-05-14'"
   ]
  },
  {
   "cell_type": "code",
   "execution_count": 56,
   "metadata": {},
   "outputs": [],
   "source": [
    "df = pd.read_csv('labels.csv')"
   ]
  },
  {
   "cell_type": "code",
   "execution_count": 57,
   "metadata": {},
   "outputs": [
    {
     "data": {
      "text/html": [
       "<div>\n",
       "<style scoped>\n",
       "    .dataframe tbody tr th:only-of-type {\n",
       "        vertical-align: middle;\n",
       "    }\n",
       "\n",
       "    .dataframe tbody tr th {\n",
       "        vertical-align: top;\n",
       "    }\n",
       "\n",
       "    .dataframe thead th {\n",
       "        text-align: right;\n",
       "    }\n",
       "</style>\n",
       "<table border=\"1\" class=\"dataframe\">\n",
       "  <thead>\n",
       "    <tr style=\"text-align: right;\">\n",
       "      <th></th>\n",
       "      <th>id</th>\n",
       "      <th>user_id</th>\n",
       "      <th>role</th>\n",
       "      <th>activity_type_id</th>\n",
       "      <th>activity_type</th>\n",
       "      <th>date</th>\n",
       "      <th>start</th>\n",
       "      <th>finish</th>\n",
       "      <th>target_id</th>\n",
       "      <th>target_role</th>\n",
       "      <th>activity2user_id</th>\n",
       "    </tr>\n",
       "  </thead>\n",
       "  <tbody>\n",
       "    <tr>\n",
       "      <th>0</th>\n",
       "      <td>2899</td>\n",
       "      <td>94</td>\n",
       "      <td>Staff</td>\n",
       "      <td>67</td>\n",
       "      <td>SITTING</td>\n",
       "      <td>2019/05/13</td>\n",
       "      <td>2019-05-13 12:31:54 +0900</td>\n",
       "      <td>2019-05-13 12:37:10 +0900</td>\n",
       "      <td>94</td>\n",
       "      <td>Staff</td>\n",
       "      <td>2993</td>\n",
       "    </tr>\n",
       "    <tr>\n",
       "      <th>1</th>\n",
       "      <td>2949</td>\n",
       "      <td>94</td>\n",
       "      <td>Staff</td>\n",
       "      <td>67</td>\n",
       "      <td>SITTING</td>\n",
       "      <td>2019/05/13</td>\n",
       "      <td>2019-05-13 12:42:03 +0900</td>\n",
       "      <td>2019-05-13 12:48:03 +0900</td>\n",
       "      <td>94</td>\n",
       "      <td>Staff</td>\n",
       "      <td>3039</td>\n",
       "    </tr>\n",
       "    <tr>\n",
       "      <th>2</th>\n",
       "      <td>2900</td>\n",
       "      <td>94</td>\n",
       "      <td>Staff</td>\n",
       "      <td>66</td>\n",
       "      <td>IN_VEHICLE</td>\n",
       "      <td>2019/05/13</td>\n",
       "      <td>2019-05-13 12:42:34 +0900</td>\n",
       "      <td>2019-05-13 12:48:43 +0900</td>\n",
       "      <td>94</td>\n",
       "      <td>Staff</td>\n",
       "      <td>2994</td>\n",
       "    </tr>\n",
       "    <tr>\n",
       "      <th>3</th>\n",
       "      <td>2901</td>\n",
       "      <td>94</td>\n",
       "      <td>Staff</td>\n",
       "      <td>62</td>\n",
       "      <td>WALKING</td>\n",
       "      <td>2019/05/13</td>\n",
       "      <td>2019-05-13 12:48:49 +0900</td>\n",
       "      <td>2019-05-13 12:52:46 +0900</td>\n",
       "      <td>94</td>\n",
       "      <td>Staff</td>\n",
       "      <td>2995</td>\n",
       "    </tr>\n",
       "    <tr>\n",
       "      <th>4</th>\n",
       "      <td>2952</td>\n",
       "      <td>94</td>\n",
       "      <td>Staff</td>\n",
       "      <td>70</td>\n",
       "      <td>DOWNSTAIRS</td>\n",
       "      <td>2019/05/13</td>\n",
       "      <td>2019-05-13 14:46:40 +0900</td>\n",
       "      <td>2019-05-13 14:48:00 +0900</td>\n",
       "      <td>94</td>\n",
       "      <td>Staff</td>\n",
       "      <td>3042</td>\n",
       "    </tr>\n",
       "  </tbody>\n",
       "</table>\n",
       "</div>"
      ],
      "text/plain": [
       "     id  user_id   role  activity_type_id activity_type        date  \\\n",
       "0  2899       94  Staff                67       SITTING  2019/05/13   \n",
       "1  2949       94  Staff                67       SITTING  2019/05/13   \n",
       "2  2900       94  Staff                66    IN_VEHICLE  2019/05/13   \n",
       "3  2901       94  Staff                62       WALKING  2019/05/13   \n",
       "4  2952       94  Staff                70    DOWNSTAIRS  2019/05/13   \n",
       "\n",
       "                       start                     finish  target_id  \\\n",
       "0  2019-05-13 12:31:54 +0900  2019-05-13 12:37:10 +0900         94   \n",
       "1  2019-05-13 12:42:03 +0900  2019-05-13 12:48:03 +0900         94   \n",
       "2  2019-05-13 12:42:34 +0900  2019-05-13 12:48:43 +0900         94   \n",
       "3  2019-05-13 12:48:49 +0900  2019-05-13 12:52:46 +0900         94   \n",
       "4  2019-05-13 14:46:40 +0900  2019-05-13 14:48:00 +0900         94   \n",
       "\n",
       "  target_role  activity2user_id  \n",
       "0       Staff              2993  \n",
       "1       Staff              3039  \n",
       "2       Staff              2994  \n",
       "3       Staff              2995  \n",
       "4       Staff              3042  "
      ]
     },
     "execution_count": 57,
     "metadata": {},
     "output_type": "execute_result"
    }
   ],
   "source": [
    "df.head()"
   ]
  },
  {
   "cell_type": "code",
   "execution_count": 58,
   "metadata": {},
   "outputs": [],
   "source": [
    "# df = df[df.date >= start_date]\n",
    "# df = df[df.date <=stop_date]\n",
    "# df = df.loc[df['user_id'].isin(user_id)]"
   ]
  },
  {
   "cell_type": "code",
   "execution_count": 59,
   "metadata": {
    "scrolled": true
   },
   "outputs": [
    {
     "data": {
      "text/plain": [
       "activity_type\n",
       "CARRYING       7\n",
       "CYCLING        6\n",
       "DOWNSTAIRS    14\n",
       "IN_VEHICLE    11\n",
       "LYING         12\n",
       "ON_TRAIN       1\n",
       "PHONE          3\n",
       "RUNNING        1\n",
       "SITTING       74\n",
       "STANDING      40\n",
       "UPSTAIRS       7\n",
       "WALKING       67\n",
       "dtype: int64"
      ]
     },
     "execution_count": 59,
     "metadata": {},
     "output_type": "execute_result"
    }
   ],
   "source": [
    "df.groupby([\"activity_type\"]).size()"
   ]
  },
  {
   "cell_type": "code",
   "execution_count": 60,
   "metadata": {},
   "outputs": [
    {
     "data": {
      "text/plain": [
       "id                  243\n",
       "user_id             243\n",
       "role                243\n",
       "activity_type_id    243\n",
       "activity_type       243\n",
       "date                243\n",
       "start               243\n",
       "finish              243\n",
       "target_id           243\n",
       "target_role         243\n",
       "activity2user_id    243\n",
       "dtype: int64"
      ]
     },
     "execution_count": 60,
     "metadata": {},
     "output_type": "execute_result"
    }
   ],
   "source": [
    "df.count()"
   ]
  },
  {
   "cell_type": "code",
   "execution_count": 62,
   "metadata": {},
   "outputs": [
    {
     "data": {
      "text/plain": [
       "user_id\n",
       "94     25\n",
       "95     46\n",
       "97     31\n",
       "98     27\n",
       "100    21\n",
       "103    38\n",
       "105    55\n",
       "dtype: int64"
      ]
     },
     "execution_count": 62,
     "metadata": {},
     "output_type": "execute_result"
    }
   ],
   "source": [
    "df.groupby([\"user_id\"]).size()"
   ]
  },
  {
   "cell_type": "code",
   "execution_count": 53,
   "metadata": {},
   "outputs": [
    {
     "data": {
      "text/plain": [
       "34.714285714285715"
      ]
     },
     "execution_count": 53,
     "metadata": {},
     "output_type": "execute_result"
    }
   ],
   "source": [
    "(25+46+31+27+21+38+55)/7"
   ]
  },
  {
   "cell_type": "code",
   "execution_count": null,
   "metadata": {},
   "outputs": [],
   "source": []
  }
 ],
 "metadata": {
  "kernelspec": {
   "display_name": "Python 3",
   "language": "python",
   "name": "python3"
  },
  "language_info": {
   "codemirror_mode": {
    "name": "ipython",
    "version": 3
   },
   "file_extension": ".py",
   "mimetype": "text/x-python",
   "name": "python",
   "nbconvert_exporter": "python",
   "pygments_lexer": "ipython3",
   "version": "3.7.2"
  }
 },
 "nbformat": 4,
 "nbformat_minor": 1
}
