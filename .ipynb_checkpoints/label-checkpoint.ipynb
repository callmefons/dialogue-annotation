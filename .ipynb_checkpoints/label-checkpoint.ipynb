{
 "cells": [
  {
   "cell_type": "code",
   "execution_count": 77,
   "metadata": {
    "collapsed": true
   },
   "outputs": [],
   "source": [
    "import pandas as pd\n",
    "import datetime "
   ]
  },
  {
   "cell_type": "code",
   "execution_count": 78,
   "metadata": {
    "collapsed": true
   },
   "outputs": [],
   "source": [
    "# user_id = [103]\n",
    "# start_date = '2019-05-13'\n",
    "# stop_date = '2019-05-14'"
   ]
  },
  {
   "cell_type": "code",
   "execution_count": 79,
   "metadata": {
    "collapsed": false
   },
   "outputs": [],
   "source": [
    "df = pd.read_csv('labels.csv')"
   ]
  },
  {
   "cell_type": "code",
   "execution_count": 80,
   "metadata": {
    "collapsed": false
   },
   "outputs": [
    {
     "data": {
      "text/html": [
       "<div>\n",
       "<table border=\"1\" class=\"dataframe\">\n",
       "  <thead>\n",
       "    <tr style=\"text-align: right;\">\n",
       "      <th></th>\n",
       "      <th>id</th>\n",
       "      <th>user_id</th>\n",
       "      <th>role</th>\n",
       "      <th>activity_type_id</th>\n",
       "      <th>activity_type</th>\n",
       "      <th>date</th>\n",
       "      <th>start</th>\n",
       "      <th>finish</th>\n",
       "      <th>target_id</th>\n",
       "      <th>target_role</th>\n",
       "      <th>activity2user_id</th>\n",
       "    </tr>\n",
       "  </thead>\n",
       "  <tbody>\n",
       "    <tr>\n",
       "      <th>0</th>\n",
       "      <td>2899</td>\n",
       "      <td>94</td>\n",
       "      <td>Staff</td>\n",
       "      <td>67</td>\n",
       "      <td>SITTING</td>\n",
       "      <td>2019/05/13</td>\n",
       "      <td>2019-05-13 12:31:54 +0900</td>\n",
       "      <td>2019-05-13 12:37:10 +0900</td>\n",
       "      <td>94</td>\n",
       "      <td>Staff</td>\n",
       "      <td>2993</td>\n",
       "    </tr>\n",
       "    <tr>\n",
       "      <th>1</th>\n",
       "      <td>2949</td>\n",
       "      <td>94</td>\n",
       "      <td>Staff</td>\n",
       "      <td>67</td>\n",
       "      <td>SITTING</td>\n",
       "      <td>2019/05/13</td>\n",
       "      <td>2019-05-13 12:42:03 +0900</td>\n",
       "      <td>2019-05-13 12:48:03 +0900</td>\n",
       "      <td>94</td>\n",
       "      <td>Staff</td>\n",
       "      <td>3039</td>\n",
       "    </tr>\n",
       "    <tr>\n",
       "      <th>2</th>\n",
       "      <td>2900</td>\n",
       "      <td>94</td>\n",
       "      <td>Staff</td>\n",
       "      <td>66</td>\n",
       "      <td>IN_VEHICLE</td>\n",
       "      <td>2019/05/13</td>\n",
       "      <td>2019-05-13 12:42:34 +0900</td>\n",
       "      <td>2019-05-13 12:48:43 +0900</td>\n",
       "      <td>94</td>\n",
       "      <td>Staff</td>\n",
       "      <td>2994</td>\n",
       "    </tr>\n",
       "    <tr>\n",
       "      <th>3</th>\n",
       "      <td>2901</td>\n",
       "      <td>94</td>\n",
       "      <td>Staff</td>\n",
       "      <td>62</td>\n",
       "      <td>WALKING</td>\n",
       "      <td>2019/05/13</td>\n",
       "      <td>2019-05-13 12:48:49 +0900</td>\n",
       "      <td>2019-05-13 12:52:46 +0900</td>\n",
       "      <td>94</td>\n",
       "      <td>Staff</td>\n",
       "      <td>2995</td>\n",
       "    </tr>\n",
       "    <tr>\n",
       "      <th>4</th>\n",
       "      <td>2952</td>\n",
       "      <td>94</td>\n",
       "      <td>Staff</td>\n",
       "      <td>70</td>\n",
       "      <td>DOWNSTAIRS</td>\n",
       "      <td>2019/05/13</td>\n",
       "      <td>2019-05-13 14:46:40 +0900</td>\n",
       "      <td>2019-05-13 14:48:00 +0900</td>\n",
       "      <td>94</td>\n",
       "      <td>Staff</td>\n",
       "      <td>3042</td>\n",
       "    </tr>\n",
       "  </tbody>\n",
       "</table>\n",
       "</div>"
      ],
      "text/plain": [
       "     id  user_id   role  activity_type_id activity_type        date  \\\n",
       "0  2899       94  Staff                67       SITTING  2019/05/13   \n",
       "1  2949       94  Staff                67       SITTING  2019/05/13   \n",
       "2  2900       94  Staff                66    IN_VEHICLE  2019/05/13   \n",
       "3  2901       94  Staff                62       WALKING  2019/05/13   \n",
       "4  2952       94  Staff                70    DOWNSTAIRS  2019/05/13   \n",
       "\n",
       "                       start                     finish  target_id  \\\n",
       "0  2019-05-13 12:31:54 +0900  2019-05-13 12:37:10 +0900         94   \n",
       "1  2019-05-13 12:42:03 +0900  2019-05-13 12:48:03 +0900         94   \n",
       "2  2019-05-13 12:42:34 +0900  2019-05-13 12:48:43 +0900         94   \n",
       "3  2019-05-13 12:48:49 +0900  2019-05-13 12:52:46 +0900         94   \n",
       "4  2019-05-13 14:46:40 +0900  2019-05-13 14:48:00 +0900         94   \n",
       "\n",
       "  target_role  activity2user_id  \n",
       "0       Staff              2993  \n",
       "1       Staff              3039  \n",
       "2       Staff              2994  \n",
       "3       Staff              2995  \n",
       "4       Staff              3042  "
      ]
     },
     "execution_count": 80,
     "metadata": {},
     "output_type": "execute_result"
    }
   ],
   "source": [
    "df.head()"
   ]
  },
  {
   "cell_type": "code",
   "execution_count": 81,
   "metadata": {
    "collapsed": false
   },
   "outputs": [],
   "source": [
    "# df = df[df.date >= start_date]\n",
    "# df = df[df.date <=stop_date]\n",
    "# df = df.loc[df['user_id'].isin(user_id)]"
   ]
  },
  {
   "cell_type": "code",
   "execution_count": 82,
   "metadata": {
    "collapsed": false,
    "scrolled": true
   },
   "outputs": [
    {
     "data": {
      "text/plain": [
       "activity_type\n",
       "CARRYING       4\n",
       "CYCLING        1\n",
       "DOWNSTAIRS     9\n",
       "IN_VEHICLE    10\n",
       "LYING          5\n",
       "PHONE          1\n",
       "RUNNING        1\n",
       "SITTING       49\n",
       "STANDING      24\n",
       "UPSTAIRS       4\n",
       "WALKING       53\n",
       "dtype: int64"
      ]
     },
     "execution_count": 82,
     "metadata": {},
     "output_type": "execute_result"
    }
   ],
   "source": [
    "df.groupby([\"activity_type\"]).size()"
   ]
  },
  {
   "cell_type": "code",
   "execution_count": 84,
   "metadata": {
    "collapsed": false
   },
   "outputs": [],
   "source": [
    "# df.groupby([\"activity_type\",\"user_id\"]).size()"
   ]
  },
  {
   "cell_type": "code",
   "execution_count": 85,
   "metadata": {
    "collapsed": false
   },
   "outputs": [
    {
     "data": {
      "text/plain": [
       "id                  161\n",
       "user_id             161\n",
       "role                161\n",
       "activity_type_id    161\n",
       "activity_type       161\n",
       "date                161\n",
       "start               161\n",
       "finish              161\n",
       "target_id           161\n",
       "target_role         161\n",
       "activity2user_id    161\n",
       "dtype: int64"
      ]
     },
     "execution_count": 85,
     "metadata": {},
     "output_type": "execute_result"
    }
   ],
   "source": [
    "df.count()"
   ]
  },
  {
   "cell_type": "code",
   "execution_count": null,
   "metadata": {
    "collapsed": true
   },
   "outputs": [],
   "source": []
  }
 ],
 "metadata": {
  "kernelspec": {
   "display_name": "Python 3",
   "language": "python",
   "name": "python3"
  },
  "language_info": {
   "codemirror_mode": {
    "name": "ipython",
    "version": 3
   },
   "file_extension": ".py",
   "mimetype": "text/x-python",
   "name": "python",
   "nbconvert_exporter": "python",
   "pygments_lexer": "ipython3",
   "version": "3.5.1"
  }
 },
 "nbformat": 4,
 "nbformat_minor": 0
}
