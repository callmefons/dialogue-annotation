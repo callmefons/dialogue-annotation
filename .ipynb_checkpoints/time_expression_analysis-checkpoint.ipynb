{
 "cells": [
  {
   "cell_type": "code",
   "execution_count": 443,
   "metadata": {
    "collapsed": false
   },
   "outputs": [],
   "source": [
    "import pandas as pd\n",
    "import numpy as np\n",
    "import matplotlib as mpl"
   ]
  },
  {
   "cell_type": "code",
   "execution_count": 444,
   "metadata": {
    "collapsed": false
   },
   "outputs": [
    {
     "data": {
      "text/html": [
       "<div>\n",
       "<table border=\"1\" class=\"dataframe\">\n",
       "  <thead>\n",
       "    <tr style=\"text-align: right;\">\n",
       "      <th></th>\n",
       "      <th>userId</th>\n",
       "      <th>timeStart</th>\n",
       "      <th>timeStop</th>\n",
       "      <th>act</th>\n",
       "      <th>text</th>\n",
       "      <th>platform</th>\n",
       "      <th>intent</th>\n",
       "      <th>recordType</th>\n",
       "      <th>responseText</th>\n",
       "      <th>tag</th>\n",
       "    </tr>\n",
       "  </thead>\n",
       "  <tbody>\n",
       "    <tr>\n",
       "      <th>0</th>\n",
       "      <td>94</td>\n",
       "      <td>2019-05-13 12:31:54 +0900</td>\n",
       "      <td>NaN</td>\n",
       "      <td>SITTING</td>\n",
       "      <td>sitting</td>\n",
       "      <td>VOICE</td>\n",
       "      <td>talk</td>\n",
       "      <td>start</td>\n",
       "      <td>SITTING is started at 12:31:54</td>\n",
       "      <td>0.0</td>\n",
       "    </tr>\n",
       "    <tr>\n",
       "      <th>1</th>\n",
       "      <td>94</td>\n",
       "      <td>2019-05-13 12:31:54 +0900</td>\n",
       "      <td>2019-05-13 12:37:10 +0900</td>\n",
       "      <td>SITTING</td>\n",
       "      <td>stop sitting</td>\n",
       "      <td>VOICE</td>\n",
       "      <td>stop</td>\n",
       "      <td>stop</td>\n",
       "      <td>SITTING is stopped at 12:37:10</td>\n",
       "      <td>0.0</td>\n",
       "    </tr>\n",
       "    <tr>\n",
       "      <th>2</th>\n",
       "      <td>94</td>\n",
       "      <td>2019-05-13 12:42:03 +0900</td>\n",
       "      <td>NaN</td>\n",
       "      <td>SITTING</td>\n",
       "      <td>sitting</td>\n",
       "      <td>VOICE</td>\n",
       "      <td>talk</td>\n",
       "      <td>start</td>\n",
       "      <td>SITTING is started at 12:42:03</td>\n",
       "      <td>0.0</td>\n",
       "    </tr>\n",
       "    <tr>\n",
       "      <th>3</th>\n",
       "      <td>94</td>\n",
       "      <td>2019-05-13 12:42:03 +0900</td>\n",
       "      <td>2019-05-13 12:48:03 +0900</td>\n",
       "      <td>SITTING</td>\n",
       "      <td>stop sitting</td>\n",
       "      <td>VOICE</td>\n",
       "      <td>stop</td>\n",
       "      <td>stop</td>\n",
       "      <td>SITTING is stopped at 12:48:03</td>\n",
       "      <td>0.0</td>\n",
       "    </tr>\n",
       "    <tr>\n",
       "      <th>4</th>\n",
       "      <td>94</td>\n",
       "      <td>2019-05-13 12:42:34 +0900</td>\n",
       "      <td>NaN</td>\n",
       "      <td>IN_VEHICLE</td>\n",
       "      <td>vehicle</td>\n",
       "      <td>VOICE</td>\n",
       "      <td>talk</td>\n",
       "      <td>start</td>\n",
       "      <td>IN_VEHICLE is started at 12:42:34</td>\n",
       "      <td>0.0</td>\n",
       "    </tr>\n",
       "  </tbody>\n",
       "</table>\n",
       "</div>"
      ],
      "text/plain": [
       "   userId                  timeStart                   timeStop         act  \\\n",
       "0      94  2019-05-13 12:31:54 +0900                        NaN     SITTING   \n",
       "1      94  2019-05-13 12:31:54 +0900  2019-05-13 12:37:10 +0900     SITTING   \n",
       "2      94  2019-05-13 12:42:03 +0900                        NaN     SITTING   \n",
       "3      94  2019-05-13 12:42:03 +0900  2019-05-13 12:48:03 +0900     SITTING   \n",
       "4      94  2019-05-13 12:42:34 +0900                        NaN  IN_VEHICLE   \n",
       "\n",
       "           text platform intent recordType                       responseText  \\\n",
       "0       sitting    VOICE   talk      start     SITTING is started at 12:31:54   \n",
       "1  stop sitting    VOICE   stop       stop     SITTING is stopped at 12:37:10   \n",
       "2       sitting    VOICE   talk      start     SITTING is started at 12:42:03   \n",
       "3  stop sitting    VOICE   stop       stop     SITTING is stopped at 12:48:03   \n",
       "4       vehicle    VOICE   talk      start  IN_VEHICLE is started at 12:42:34   \n",
       "\n",
       "   tag  \n",
       "0  0.0  \n",
       "1  0.0  \n",
       "2  0.0  \n",
       "3  0.0  \n",
       "4  0.0  "
      ]
     },
     "execution_count": 444,
     "metadata": {},
     "output_type": "execute_result"
    }
   ],
   "source": [
    "file_name = \"dialogue.csv\"\n",
    "df = pd.read_csv(file_name)\n",
    "df.head()"
   ]
  },
  {
   "cell_type": "code",
   "execution_count": 445,
   "metadata": {
    "collapsed": false
   },
   "outputs": [
    {
     "data": {
      "text/html": [
       "<div>\n",
       "<table border=\"1\" class=\"dataframe\">\n",
       "  <thead>\n",
       "    <tr style=\"text-align: right;\">\n",
       "      <th></th>\n",
       "      <th>userId</th>\n",
       "      <th>timeStart</th>\n",
       "      <th>timeStop</th>\n",
       "      <th>act</th>\n",
       "      <th>text</th>\n",
       "      <th>platform</th>\n",
       "      <th>intent</th>\n",
       "      <th>recordType</th>\n",
       "      <th>responseText</th>\n",
       "      <th>tag</th>\n",
       "    </tr>\n",
       "  </thead>\n",
       "  <tbody>\n",
       "    <tr>\n",
       "      <th>0</th>\n",
       "      <td>94</td>\n",
       "      <td>2019-05-13 12:31:54 +0900</td>\n",
       "      <td>NaN</td>\n",
       "      <td>SITTING</td>\n",
       "      <td>sitting</td>\n",
       "      <td>VOICE</td>\n",
       "      <td>talk</td>\n",
       "      <td>start</td>\n",
       "      <td>SITTING is started at 12:31:54</td>\n",
       "      <td>0</td>\n",
       "    </tr>\n",
       "    <tr>\n",
       "      <th>1</th>\n",
       "      <td>94</td>\n",
       "      <td>2019-05-13 12:31:54 +0900</td>\n",
       "      <td>2019-05-13 12:37:10 +0900</td>\n",
       "      <td>SITTING</td>\n",
       "      <td>stop sitting</td>\n",
       "      <td>VOICE</td>\n",
       "      <td>stop</td>\n",
       "      <td>stop</td>\n",
       "      <td>SITTING is stopped at 12:37:10</td>\n",
       "      <td>0</td>\n",
       "    </tr>\n",
       "    <tr>\n",
       "      <th>2</th>\n",
       "      <td>94</td>\n",
       "      <td>2019-05-13 12:42:03 +0900</td>\n",
       "      <td>NaN</td>\n",
       "      <td>SITTING</td>\n",
       "      <td>sitting</td>\n",
       "      <td>VOICE</td>\n",
       "      <td>talk</td>\n",
       "      <td>start</td>\n",
       "      <td>SITTING is started at 12:42:03</td>\n",
       "      <td>0</td>\n",
       "    </tr>\n",
       "    <tr>\n",
       "      <th>3</th>\n",
       "      <td>94</td>\n",
       "      <td>2019-05-13 12:42:03 +0900</td>\n",
       "      <td>2019-05-13 12:48:03 +0900</td>\n",
       "      <td>SITTING</td>\n",
       "      <td>stop sitting</td>\n",
       "      <td>VOICE</td>\n",
       "      <td>stop</td>\n",
       "      <td>stop</td>\n",
       "      <td>SITTING is stopped at 12:48:03</td>\n",
       "      <td>0</td>\n",
       "    </tr>\n",
       "    <tr>\n",
       "      <th>4</th>\n",
       "      <td>94</td>\n",
       "      <td>2019-05-13 12:42:34 +0900</td>\n",
       "      <td>NaN</td>\n",
       "      <td>IN_VEHICLE</td>\n",
       "      <td>vehicle</td>\n",
       "      <td>VOICE</td>\n",
       "      <td>talk</td>\n",
       "      <td>start</td>\n",
       "      <td>IN_VEHICLE is started at 12:42:34</td>\n",
       "      <td>0</td>\n",
       "    </tr>\n",
       "  </tbody>\n",
       "</table>\n",
       "</div>"
      ],
      "text/plain": [
       "   userId                  timeStart                   timeStop         act  \\\n",
       "0      94  2019-05-13 12:31:54 +0900                        NaN     SITTING   \n",
       "1      94  2019-05-13 12:31:54 +0900  2019-05-13 12:37:10 +0900     SITTING   \n",
       "2      94  2019-05-13 12:42:03 +0900                        NaN     SITTING   \n",
       "3      94  2019-05-13 12:42:03 +0900  2019-05-13 12:48:03 +0900     SITTING   \n",
       "4      94  2019-05-13 12:42:34 +0900                        NaN  IN_VEHICLE   \n",
       "\n",
       "           text platform intent recordType                       responseText  \\\n",
       "0       sitting    VOICE   talk      start     SITTING is started at 12:31:54   \n",
       "1  stop sitting    VOICE   stop       stop     SITTING is stopped at 12:37:10   \n",
       "2       sitting    VOICE   talk      start     SITTING is started at 12:42:03   \n",
       "3  stop sitting    VOICE   stop       stop     SITTING is stopped at 12:48:03   \n",
       "4       vehicle    VOICE   talk      start  IN_VEHICLE is started at 12:42:34   \n",
       "\n",
       "   tag  \n",
       "0    0  \n",
       "1    0  \n",
       "2    0  \n",
       "3    0  \n",
       "4    0  "
      ]
     },
     "execution_count": 445,
     "metadata": {},
     "output_type": "execute_result"
    }
   ],
   "source": [
    "df = df.dropna(subset=['tag'])\n",
    "df.tag = df.tag.astype(int)\n",
    "df.head()"
   ]
  },
  {
   "cell_type": "code",
   "execution_count": 446,
   "metadata": {
    "collapsed": false
   },
   "outputs": [],
   "source": [
    "# df = df[['act', 'tag','userId','timeStart','timeStop']]"
   ]
  },
  {
   "cell_type": "code",
   "execution_count": 447,
   "metadata": {
    "collapsed": false
   },
   "outputs": [
    {
     "data": {
      "text/plain": [
       "act\n",
       "CARRYING        8\n",
       "CYCLING         2\n",
       "DOWNSTAIRS     18\n",
       "IN_VEHICLE     20\n",
       "LYING          10\n",
       "PHONE           2\n",
       "RUNNING         2\n",
       "SITTING        98\n",
       "STANDING       48\n",
       "UPSTAIRS        8\n",
       "WALKING       106\n",
       "dtype: int64"
      ]
     },
     "execution_count": 447,
     "metadata": {},
     "output_type": "execute_result"
    }
   ],
   "source": [
    "df.groupby([\"act\"]).size()"
   ]
  },
  {
   "cell_type": "code",
   "execution_count": 448,
   "metadata": {
    "collapsed": false
   },
   "outputs": [],
   "source": [
    "# df.groupby([\"act\", \"userId\"]).size()"
   ]
  },
  {
   "cell_type": "code",
   "execution_count": 449,
   "metadata": {
    "collapsed": false
   },
   "outputs": [
    {
     "data": {
      "text/plain": [
       "tag\n",
       "0    250\n",
       "1     64\n",
       "2      8\n",
       "dtype: int64"
      ]
     },
     "execution_count": 449,
     "metadata": {},
     "output_type": "execute_result"
    }
   ],
   "source": [
    "df.groupby([\"tag\"]).size()"
   ]
  },
  {
   "cell_type": "code",
   "execution_count": 450,
   "metadata": {
    "collapsed": false
   },
   "outputs": [
    {
     "data": {
      "text/plain": [
       "userId          322\n",
       "timeStart       322\n",
       "timeStop        162\n",
       "act             322\n",
       "text            322\n",
       "platform        319\n",
       "intent          319\n",
       "recordType      319\n",
       "responseText    321\n",
       "tag             322\n",
       "dtype: int64"
      ]
     },
     "execution_count": 450,
     "metadata": {},
     "output_type": "execute_result"
    }
   ],
   "source": [
    "df.count()"
   ]
  },
  {
   "cell_type": "code",
   "execution_count": 513,
   "metadata": {
    "collapsed": true
   },
   "outputs": [],
   "source": [
    "def percentage(num):\n",
    "    per = (num*100.0)/320\n",
    "    per = round(per, 0)\n",
    "    return per"
   ]
  },
  {
   "cell_type": "code",
   "execution_count": 451,
   "metadata": {
    "collapsed": false
   },
   "outputs": [
    {
     "name": "stdout",
     "output_type": "stream",
     "text": [
      "Percent of present: 78.0%\n",
      "Percent of past: 20.0%\n",
      "Percent of future: 2.0%\n",
      "Percent of temp: 22.0%\n"
     ]
    }
   ],
   "source": [
    "print('Percent of present: '+str(percentage(249))+'%')\n",
    "print('Percent of past: '+str(percentage(64))+'%')\n",
    "print('Percent of future: '+str(percentage(8))+'%')\n",
    "print('Percent of temp: '+str(percentage(64+8))+'%')"
   ]
  },
  {
   "cell_type": "code",
   "execution_count": 452,
   "metadata": {
    "collapsed": true
   },
   "outputs": [],
   "source": [
    "df.to_csv('time_expression.csv')"
   ]
  },
  {
   "cell_type": "code",
   "execution_count": 453,
   "metadata": {
    "collapsed": false
   },
   "outputs": [],
   "source": [
    "# df.dropna(subset=['timeStop']).groupby([\"tag\"]).size()"
   ]
  },
  {
   "cell_type": "code",
   "execution_count": 454,
   "metadata": {
    "collapsed": false
   },
   "outputs": [
    {
     "data": {
      "text/plain": [
       "text\n",
       "stop sitting                   22\n",
       "sitting                        22\n",
       "stop walking                   19\n",
       "walking                        17\n",
       "stop walk                      12\n",
       "stop standing                  11\n",
       "stop stand                      9\n",
       "sit                             8\n",
       "walking now                     7\n",
       "stand                           7\n",
       "walk                            6\n",
       "vehicle                         6\n",
       "lying                           5\n",
       "stop sitting 10 minutes ago     5\n",
       "standing                        5\n",
       "finished walking                4\n",
       "stop sit                        4\n",
       "stop lying                      3\n",
       "finish sitting                  3\n",
       "walking 2 minutes ago           3\n",
       "dtype: int64"
      ]
     },
     "execution_count": 454,
     "metadata": {},
     "output_type": "execute_result"
    }
   ],
   "source": [
    "df['text'] = df['text'].str.strip()\n",
    "df.groupby([\"text\"]).size().sort_values(ascending=False).head(20)\n",
    "# top_utt = df.drop_duplicates([\"text\"])"
   ]
  },
  {
   "cell_type": "code",
   "execution_count": 456,
   "metadata": {
    "collapsed": false
   },
   "outputs": [
    {
     "data": {
      "text/plain": [
       "text                         count\n",
       "stop sitting                 2        22\n",
       "sitting                      1        22\n",
       "stop walking                 2        19\n",
       "walking                      1        17\n",
       "stop walk                    2        12\n",
       "stop standing                2        11\n",
       "stop stand                   2         9\n",
       "sit                          1         8\n",
       "walking now                  2         7\n",
       "stand                        1         7\n",
       "walk                         1         6\n",
       "vehicle                      1         6\n",
       "lying                        1         5\n",
       "stop sitting 10 minutes ago  5         5\n",
       "standing                     1         5\n",
       "finished walking             2         4\n",
       "stop sit                     2         4\n",
       "stop lying                   2         3\n",
       "finish sitting               2         3\n",
       "walking 2 minutes ago        4         3\n",
       "dtype: int64"
      ]
     },
     "execution_count": 456,
     "metadata": {},
     "output_type": "execute_result"
    }
   ],
   "source": [
    "df['count'] = df['text'].str.findall(r'(\\w+)').str.len()\n",
    "df.groupby([\"text\", \"count\"]).size().sort_values(ascending=False).head(20)"
   ]
  },
  {
   "cell_type": "code",
   "execution_count": 495,
   "metadata": {
    "collapsed": false
   },
   "outputs": [
    {
     "data": {
      "text/plain": [
       "381    5\n",
       "220    5\n",
       "351    5\n",
       "161    5\n",
       "164    5\n",
       "311    5\n",
       "346    5\n",
       "344    5\n",
       "33     5\n",
       "341    5\n",
       "211    5\n",
       "72     5\n",
       "354    5\n",
       "235    5\n",
       "330    5\n",
       "240    5\n",
       "327    5\n",
       "325    5\n",
       "271    5\n",
       "274    5\n",
       "286    5\n",
       "315    5\n",
       "48     5\n",
       "347    5\n",
       "51     5\n",
       "104    5\n",
       "378    5\n",
       "76     5\n",
       "68     5\n",
       "375    5\n",
       "      ..\n",
       "379    1\n",
       "186    1\n",
       "81     1\n",
       "84     1\n",
       "89     1\n",
       "96     1\n",
       "99     1\n",
       "113    1\n",
       "116    1\n",
       "117    1\n",
       "130    1\n",
       "132    1\n",
       "137    1\n",
       "140    1\n",
       "141    1\n",
       "144    1\n",
       "147    1\n",
       "151    1\n",
       "153    1\n",
       "159    1\n",
       "162    1\n",
       "165    1\n",
       "169    1\n",
       "172    1\n",
       "175    1\n",
       "177    1\n",
       "179    1\n",
       "181    1\n",
       "183    1\n",
       "0      1\n",
       "Name: count, dtype: int64"
      ]
     },
     "execution_count": 495,
     "metadata": {},
     "output_type": "execute_result"
    }
   ],
   "source": [
    "df['count'].max(level=0).sort_values(ascending=False)"
   ]
  },
  {
   "cell_type": "code",
   "execution_count": 518,
   "metadata": {
    "collapsed": false
   },
   "outputs": [
    {
     "name": "stdout",
     "output_type": "stream",
     "text": [
      "len1 85\n",
      "27.0%\n",
      "\n",
      "len2 149\n",
      "47.0%\n",
      "\n",
      "len3 16\n",
      "5.0%\n",
      "\n",
      "len4 29\n",
      "9.0%\n",
      "\n",
      "len5 43\n",
      "13.0%\n",
      "\n"
     ]
    }
   ],
   "source": [
    "for i in range(5):\n",
    "    c = df[df['count'] == i+1]['count'].count()\n",
    "    print(\"len\"+str(i+1), + c)\n",
    "    print(str(percentage(c))+'%\\n')"
   ]
  },
  {
   "cell_type": "code",
   "execution_count": null,
   "metadata": {
    "collapsed": true
   },
   "outputs": [],
   "source": []
  }
 ],
 "metadata": {
  "kernelspec": {
   "display_name": "Python 3",
   "language": "python",
   "name": "python3"
  },
  "language_info": {
   "codemirror_mode": {
    "name": "ipython",
    "version": 3
   },
   "file_extension": ".py",
   "mimetype": "text/x-python",
   "name": "python",
   "nbconvert_exporter": "python",
   "pygments_lexer": "ipython3",
   "version": "3.5.1"
  }
 },
 "nbformat": 4,
 "nbformat_minor": 0
}
