{
 "cells": [
  {
   "cell_type": "code",
   "execution_count": 37,
   "metadata": {},
   "outputs": [],
   "source": [
    "import pandas as pd\n",
    "import numpy as np\n",
    "import matplotlib as mpl"
   ]
  },
  {
   "cell_type": "code",
   "execution_count": 38,
   "metadata": {},
   "outputs": [
    {
     "data": {
      "text/html": [
       "<div>\n",
       "<style scoped>\n",
       "    .dataframe tbody tr th:only-of-type {\n",
       "        vertical-align: middle;\n",
       "    }\n",
       "\n",
       "    .dataframe tbody tr th {\n",
       "        vertical-align: top;\n",
       "    }\n",
       "\n",
       "    .dataframe thead th {\n",
       "        text-align: right;\n",
       "    }\n",
       "</style>\n",
       "<table border=\"1\" class=\"dataframe\">\n",
       "  <thead>\n",
       "    <tr style=\"text-align: right;\">\n",
       "      <th></th>\n",
       "      <th>userId</th>\n",
       "      <th>timeStart</th>\n",
       "      <th>timeStop</th>\n",
       "      <th>act</th>\n",
       "      <th>text</th>\n",
       "      <th>platform</th>\n",
       "      <th>intent</th>\n",
       "      <th>recordType</th>\n",
       "      <th>responseText</th>\n",
       "      <th>tag</th>\n",
       "    </tr>\n",
       "  </thead>\n",
       "  <tbody>\n",
       "    <tr>\n",
       "      <th>0</th>\n",
       "      <td>94</td>\n",
       "      <td>2019-05-13 12:31:54 +0900</td>\n",
       "      <td>NaN</td>\n",
       "      <td>SITTING</td>\n",
       "      <td>sitting</td>\n",
       "      <td>VOICE</td>\n",
       "      <td>talk</td>\n",
       "      <td>start</td>\n",
       "      <td>SITTING is started at 12:31:54</td>\n",
       "      <td>0.0</td>\n",
       "    </tr>\n",
       "    <tr>\n",
       "      <th>1</th>\n",
       "      <td>94</td>\n",
       "      <td>2019-05-13 12:31:54 +0900</td>\n",
       "      <td>2019-05-13 12:37:10 +0900</td>\n",
       "      <td>SITTING</td>\n",
       "      <td>stop sitting</td>\n",
       "      <td>VOICE</td>\n",
       "      <td>stop</td>\n",
       "      <td>stop</td>\n",
       "      <td>SITTING is stopped at 12:37:10</td>\n",
       "      <td>0.0</td>\n",
       "    </tr>\n",
       "    <tr>\n",
       "      <th>2</th>\n",
       "      <td>94</td>\n",
       "      <td>2019-05-13 12:42:03 +0900</td>\n",
       "      <td>NaN</td>\n",
       "      <td>SITTING</td>\n",
       "      <td>sitting</td>\n",
       "      <td>VOICE</td>\n",
       "      <td>talk</td>\n",
       "      <td>start</td>\n",
       "      <td>SITTING is started at 12:42:03</td>\n",
       "      <td>0.0</td>\n",
       "    </tr>\n",
       "    <tr>\n",
       "      <th>3</th>\n",
       "      <td>94</td>\n",
       "      <td>2019-05-13 12:42:03 +0900</td>\n",
       "      <td>2019-05-13 12:48:03 +0900</td>\n",
       "      <td>SITTING</td>\n",
       "      <td>stop sitting</td>\n",
       "      <td>VOICE</td>\n",
       "      <td>stop</td>\n",
       "      <td>stop</td>\n",
       "      <td>SITTING is stopped at 12:48:03</td>\n",
       "      <td>0.0</td>\n",
       "    </tr>\n",
       "    <tr>\n",
       "      <th>4</th>\n",
       "      <td>94</td>\n",
       "      <td>2019-05-13 12:42:34 +0900</td>\n",
       "      <td>NaN</td>\n",
       "      <td>IN_VEHICLE</td>\n",
       "      <td>vehicle</td>\n",
       "      <td>VOICE</td>\n",
       "      <td>talk</td>\n",
       "      <td>start</td>\n",
       "      <td>IN_VEHICLE is started at 12:42:34</td>\n",
       "      <td>0.0</td>\n",
       "    </tr>\n",
       "  </tbody>\n",
       "</table>\n",
       "</div>"
      ],
      "text/plain": [
       "   userId                  timeStart                   timeStop         act  \\\n",
       "0      94  2019-05-13 12:31:54 +0900                        NaN     SITTING   \n",
       "1      94  2019-05-13 12:31:54 +0900  2019-05-13 12:37:10 +0900     SITTING   \n",
       "2      94  2019-05-13 12:42:03 +0900                        NaN     SITTING   \n",
       "3      94  2019-05-13 12:42:03 +0900  2019-05-13 12:48:03 +0900     SITTING   \n",
       "4      94  2019-05-13 12:42:34 +0900                        NaN  IN_VEHICLE   \n",
       "\n",
       "           text platform intent recordType                       responseText  \\\n",
       "0       sitting    VOICE   talk      start     SITTING is started at 12:31:54   \n",
       "1  stop sitting    VOICE   stop       stop     SITTING is stopped at 12:37:10   \n",
       "2       sitting    VOICE   talk      start     SITTING is started at 12:42:03   \n",
       "3  stop sitting    VOICE   stop       stop     SITTING is stopped at 12:48:03   \n",
       "4       vehicle    VOICE   talk      start  IN_VEHICLE is started at 12:42:34   \n",
       "\n",
       "   tag  \n",
       "0  0.0  \n",
       "1  0.0  \n",
       "2  0.0  \n",
       "3  0.0  \n",
       "4  0.0  "
      ]
     },
     "execution_count": 38,
     "metadata": {},
     "output_type": "execute_result"
    }
   ],
   "source": [
    "file_name = \"dialogue.csv\"\n",
    "df = pd.read_csv(file_name)\n",
    "df.head()"
   ]
  },
  {
   "cell_type": "code",
   "execution_count": 39,
   "metadata": {},
   "outputs": [
    {
     "data": {
      "text/html": [
       "<div>\n",
       "<style scoped>\n",
       "    .dataframe tbody tr th:only-of-type {\n",
       "        vertical-align: middle;\n",
       "    }\n",
       "\n",
       "    .dataframe tbody tr th {\n",
       "        vertical-align: top;\n",
       "    }\n",
       "\n",
       "    .dataframe thead th {\n",
       "        text-align: right;\n",
       "    }\n",
       "</style>\n",
       "<table border=\"1\" class=\"dataframe\">\n",
       "  <thead>\n",
       "    <tr style=\"text-align: right;\">\n",
       "      <th></th>\n",
       "      <th>userId</th>\n",
       "      <th>timeStart</th>\n",
       "      <th>timeStop</th>\n",
       "      <th>act</th>\n",
       "      <th>text</th>\n",
       "      <th>platform</th>\n",
       "      <th>intent</th>\n",
       "      <th>recordType</th>\n",
       "      <th>responseText</th>\n",
       "      <th>tag</th>\n",
       "    </tr>\n",
       "  </thead>\n",
       "  <tbody>\n",
       "    <tr>\n",
       "      <th>0</th>\n",
       "      <td>94</td>\n",
       "      <td>2019-05-13 12:31:54 +0900</td>\n",
       "      <td>NaN</td>\n",
       "      <td>SITTING</td>\n",
       "      <td>sitting</td>\n",
       "      <td>VOICE</td>\n",
       "      <td>talk</td>\n",
       "      <td>start</td>\n",
       "      <td>SITTING is started at 12:31:54</td>\n",
       "      <td>0</td>\n",
       "    </tr>\n",
       "    <tr>\n",
       "      <th>1</th>\n",
       "      <td>94</td>\n",
       "      <td>2019-05-13 12:31:54 +0900</td>\n",
       "      <td>2019-05-13 12:37:10 +0900</td>\n",
       "      <td>SITTING</td>\n",
       "      <td>stop sitting</td>\n",
       "      <td>VOICE</td>\n",
       "      <td>stop</td>\n",
       "      <td>stop</td>\n",
       "      <td>SITTING is stopped at 12:37:10</td>\n",
       "      <td>0</td>\n",
       "    </tr>\n",
       "    <tr>\n",
       "      <th>2</th>\n",
       "      <td>94</td>\n",
       "      <td>2019-05-13 12:42:03 +0900</td>\n",
       "      <td>NaN</td>\n",
       "      <td>SITTING</td>\n",
       "      <td>sitting</td>\n",
       "      <td>VOICE</td>\n",
       "      <td>talk</td>\n",
       "      <td>start</td>\n",
       "      <td>SITTING is started at 12:42:03</td>\n",
       "      <td>0</td>\n",
       "    </tr>\n",
       "    <tr>\n",
       "      <th>3</th>\n",
       "      <td>94</td>\n",
       "      <td>2019-05-13 12:42:03 +0900</td>\n",
       "      <td>2019-05-13 12:48:03 +0900</td>\n",
       "      <td>SITTING</td>\n",
       "      <td>stop sitting</td>\n",
       "      <td>VOICE</td>\n",
       "      <td>stop</td>\n",
       "      <td>stop</td>\n",
       "      <td>SITTING is stopped at 12:48:03</td>\n",
       "      <td>0</td>\n",
       "    </tr>\n",
       "    <tr>\n",
       "      <th>4</th>\n",
       "      <td>94</td>\n",
       "      <td>2019-05-13 12:42:34 +0900</td>\n",
       "      <td>NaN</td>\n",
       "      <td>IN_VEHICLE</td>\n",
       "      <td>vehicle</td>\n",
       "      <td>VOICE</td>\n",
       "      <td>talk</td>\n",
       "      <td>start</td>\n",
       "      <td>IN_VEHICLE is started at 12:42:34</td>\n",
       "      <td>0</td>\n",
       "    </tr>\n",
       "  </tbody>\n",
       "</table>\n",
       "</div>"
      ],
      "text/plain": [
       "   userId                  timeStart                   timeStop         act  \\\n",
       "0      94  2019-05-13 12:31:54 +0900                        NaN     SITTING   \n",
       "1      94  2019-05-13 12:31:54 +0900  2019-05-13 12:37:10 +0900     SITTING   \n",
       "2      94  2019-05-13 12:42:03 +0900                        NaN     SITTING   \n",
       "3      94  2019-05-13 12:42:03 +0900  2019-05-13 12:48:03 +0900     SITTING   \n",
       "4      94  2019-05-13 12:42:34 +0900                        NaN  IN_VEHICLE   \n",
       "\n",
       "           text platform intent recordType                       responseText  \\\n",
       "0       sitting    VOICE   talk      start     SITTING is started at 12:31:54   \n",
       "1  stop sitting    VOICE   stop       stop     SITTING is stopped at 12:37:10   \n",
       "2       sitting    VOICE   talk      start     SITTING is started at 12:42:03   \n",
       "3  stop sitting    VOICE   stop       stop     SITTING is stopped at 12:48:03   \n",
       "4       vehicle    VOICE   talk      start  IN_VEHICLE is started at 12:42:34   \n",
       "\n",
       "   tag  \n",
       "0    0  \n",
       "1    0  \n",
       "2    0  \n",
       "3    0  \n",
       "4    0  "
      ]
     },
     "execution_count": 39,
     "metadata": {},
     "output_type": "execute_result"
    }
   ],
   "source": [
    "df = df.dropna(subset=['tag'])\n",
    "df.tag = df.tag.astype(int)\n",
    "df.head()"
   ]
  },
  {
   "cell_type": "code",
   "execution_count": 40,
   "metadata": {},
   "outputs": [],
   "source": [
    "# df = df[['act', 'tag','userId','timeStart','timeStop']]"
   ]
  },
  {
   "cell_type": "code",
   "execution_count": 41,
   "metadata": {},
   "outputs": [
    {
     "data": {
      "text/plain": [
       "act\n",
       "CARRYING       14\n",
       "CYCLING        12\n",
       "DOWNSTAIRS     28\n",
       "IN_VEHICLE     22\n",
       "LYING          24\n",
       "ON_TRAIN        2\n",
       "PHONE           6\n",
       "RUNNING         2\n",
       "SITTING       148\n",
       "STANDING       80\n",
       "UPSTAIRS       14\n",
       "WALKING       134\n",
       "dtype: int64"
      ]
     },
     "execution_count": 41,
     "metadata": {},
     "output_type": "execute_result"
    }
   ],
   "source": [
    "df.groupby([\"act\"]).size()"
   ]
  },
  {
   "cell_type": "code",
   "execution_count": 42,
   "metadata": {},
   "outputs": [],
   "source": [
    "# df.groupby([\"act\", \"tag\"]).size()"
   ]
  },
  {
   "cell_type": "code",
   "execution_count": 43,
   "metadata": {},
   "outputs": [
    {
     "data": {
      "text/plain": [
       "tag\n",
       "0    371\n",
       "1    101\n",
       "2     14\n",
       "dtype: int64"
      ]
     },
     "execution_count": 43,
     "metadata": {},
     "output_type": "execute_result"
    }
   ],
   "source": [
    "df.groupby([\"tag\"]).size()"
   ]
  },
  {
   "cell_type": "code",
   "execution_count": 44,
   "metadata": {},
   "outputs": [
    {
     "data": {
      "text/plain": [
       "userId          486\n",
       "timeStart       486\n",
       "timeStop        244\n",
       "act             486\n",
       "text            486\n",
       "platform        483\n",
       "intent          483\n",
       "recordType      483\n",
       "responseText    485\n",
       "tag             486\n",
       "dtype: int64"
      ]
     },
     "execution_count": 44,
     "metadata": {},
     "output_type": "execute_result"
    }
   ],
   "source": [
    "df.count()"
   ]
  },
  {
   "cell_type": "code",
   "execution_count": 45,
   "metadata": {},
   "outputs": [],
   "source": [
    "def percentage(num):\n",
    "    per = (num*100.0)/486\n",
    "    per = round(per, 0)\n",
    "    return per"
   ]
  },
  {
   "cell_type": "code",
   "execution_count": 46,
   "metadata": {},
   "outputs": [
    {
     "name": "stdout",
     "output_type": "stream",
     "text": [
      "Percent of present: 76.0%\n",
      "Percent of past: 21.0%\n",
      "Percent of future: 3.0%\n",
      "Percent of temp: 24.0%\n"
     ]
    }
   ],
   "source": [
    "print('Percent of present: '+str(percentage(371))+'%')\n",
    "print('Percent of past: '+str(percentage(101))+'%')\n",
    "print('Percent of future: '+str(percentage(14))+'%')\n",
    "print('Percent of temp: '+str(percentage(101+14))+'%')"
   ]
  },
  {
   "cell_type": "code",
   "execution_count": 47,
   "metadata": {},
   "outputs": [],
   "source": [
    "# df.dropna(subset=['timeStop']).groupby([\"tag\"]).size()"
   ]
  },
  {
   "cell_type": "code",
   "execution_count": 48,
   "metadata": {},
   "outputs": [
    {
     "data": {
      "text/plain": [
       "text\n",
       "stop sitting     37\n",
       "sitting          29\n",
       "stop walking     24\n",
       "walking          23\n",
       "stop walk        18\n",
       "stop stand       16\n",
       "sit              13\n",
       "stop standing    12\n",
       "standing         11\n",
       "lying            11\n",
       "dtype: int64"
      ]
     },
     "execution_count": 48,
     "metadata": {},
     "output_type": "execute_result"
    }
   ],
   "source": [
    "df['text'] = df['text'].str.strip()\n",
    "df['count'] = df['text'].str.findall(r'(\\w+)').str.len()\n",
    "df.groupby([\"text\"]).size().sort_values(ascending=False).head(10)"
   ]
  },
  {
   "cell_type": "code",
   "execution_count": 49,
   "metadata": {},
   "outputs": [
    {
     "name": "stdout",
     "output_type": "stream",
     "text": [
      "n: 37\n",
      "8.0%\n",
      "n: 29\n",
      "6.0%\n",
      "n: 24\n",
      "5.0%\n",
      "n: 23\n",
      "5.0%\n",
      "n: 18\n",
      "4.0%\n",
      "n: 16\n",
      "3.0%\n",
      "n: 13\n",
      "3.0%\n",
      "n: 12\n",
      "2.0%\n",
      "n: 11\n",
      "2.0%\n",
      "n: 11\n",
      "2.0%\n"
     ]
    }
   ],
   "source": [
    "num = [37, 29, 24, 23, 18, 16, 13, 12, 11, 11]\n",
    "\n",
    "for i in range(len(num)):\n",
    "    n = num[i]\n",
    "    print(\"n:\", + n)\n",
    "    print(str(percentage(n))+'%')"
   ]
  },
  {
   "cell_type": "code",
   "execution_count": 50,
   "metadata": {},
   "outputs": [],
   "source": [
    "df['time'] = df.tag.map({0:\"Present\",1:\"Past\",2:\"Future\"})"
   ]
  },
  {
   "cell_type": "code",
   "execution_count": 51,
   "metadata": {},
   "outputs": [
    {
     "data": {
      "text/html": [
       "<div>\n",
       "<style scoped>\n",
       "    .dataframe tbody tr th:only-of-type {\n",
       "        vertical-align: middle;\n",
       "    }\n",
       "\n",
       "    .dataframe tbody tr th {\n",
       "        vertical-align: top;\n",
       "    }\n",
       "\n",
       "    .dataframe thead th {\n",
       "        text-align: right;\n",
       "    }\n",
       "</style>\n",
       "<table border=\"1\" class=\"dataframe\">\n",
       "  <thead>\n",
       "    <tr style=\"text-align: right;\">\n",
       "      <th></th>\n",
       "      <th>userId</th>\n",
       "      <th>timeStart</th>\n",
       "      <th>timeStop</th>\n",
       "      <th>act</th>\n",
       "      <th>text</th>\n",
       "      <th>platform</th>\n",
       "      <th>intent</th>\n",
       "      <th>recordType</th>\n",
       "      <th>responseText</th>\n",
       "      <th>tag</th>\n",
       "      <th>count</th>\n",
       "      <th>time</th>\n",
       "    </tr>\n",
       "  </thead>\n",
       "  <tbody>\n",
       "    <tr>\n",
       "      <th>0</th>\n",
       "      <td>94</td>\n",
       "      <td>2019-05-13 12:31:54 +0900</td>\n",
       "      <td>NaN</td>\n",
       "      <td>SITTING</td>\n",
       "      <td>sitting</td>\n",
       "      <td>VOICE</td>\n",
       "      <td>talk</td>\n",
       "      <td>start</td>\n",
       "      <td>SITTING is started at 12:31:54</td>\n",
       "      <td>0</td>\n",
       "      <td>1</td>\n",
       "      <td>Present</td>\n",
       "    </tr>\n",
       "    <tr>\n",
       "      <th>1</th>\n",
       "      <td>94</td>\n",
       "      <td>2019-05-13 12:31:54 +0900</td>\n",
       "      <td>2019-05-13 12:37:10 +0900</td>\n",
       "      <td>SITTING</td>\n",
       "      <td>stop sitting</td>\n",
       "      <td>VOICE</td>\n",
       "      <td>stop</td>\n",
       "      <td>stop</td>\n",
       "      <td>SITTING is stopped at 12:37:10</td>\n",
       "      <td>0</td>\n",
       "      <td>2</td>\n",
       "      <td>Present</td>\n",
       "    </tr>\n",
       "    <tr>\n",
       "      <th>2</th>\n",
       "      <td>94</td>\n",
       "      <td>2019-05-13 12:42:03 +0900</td>\n",
       "      <td>NaN</td>\n",
       "      <td>SITTING</td>\n",
       "      <td>sitting</td>\n",
       "      <td>VOICE</td>\n",
       "      <td>talk</td>\n",
       "      <td>start</td>\n",
       "      <td>SITTING is started at 12:42:03</td>\n",
       "      <td>0</td>\n",
       "      <td>1</td>\n",
       "      <td>Present</td>\n",
       "    </tr>\n",
       "    <tr>\n",
       "      <th>3</th>\n",
       "      <td>94</td>\n",
       "      <td>2019-05-13 12:42:03 +0900</td>\n",
       "      <td>2019-05-13 12:48:03 +0900</td>\n",
       "      <td>SITTING</td>\n",
       "      <td>stop sitting</td>\n",
       "      <td>VOICE</td>\n",
       "      <td>stop</td>\n",
       "      <td>stop</td>\n",
       "      <td>SITTING is stopped at 12:48:03</td>\n",
       "      <td>0</td>\n",
       "      <td>2</td>\n",
       "      <td>Present</td>\n",
       "    </tr>\n",
       "    <tr>\n",
       "      <th>4</th>\n",
       "      <td>94</td>\n",
       "      <td>2019-05-13 12:42:34 +0900</td>\n",
       "      <td>NaN</td>\n",
       "      <td>IN_VEHICLE</td>\n",
       "      <td>vehicle</td>\n",
       "      <td>VOICE</td>\n",
       "      <td>talk</td>\n",
       "      <td>start</td>\n",
       "      <td>IN_VEHICLE is started at 12:42:34</td>\n",
       "      <td>0</td>\n",
       "      <td>1</td>\n",
       "      <td>Present</td>\n",
       "    </tr>\n",
       "  </tbody>\n",
       "</table>\n",
       "</div>"
      ],
      "text/plain": [
       "   userId                  timeStart                   timeStop         act  \\\n",
       "0      94  2019-05-13 12:31:54 +0900                        NaN     SITTING   \n",
       "1      94  2019-05-13 12:31:54 +0900  2019-05-13 12:37:10 +0900     SITTING   \n",
       "2      94  2019-05-13 12:42:03 +0900                        NaN     SITTING   \n",
       "3      94  2019-05-13 12:42:03 +0900  2019-05-13 12:48:03 +0900     SITTING   \n",
       "4      94  2019-05-13 12:42:34 +0900                        NaN  IN_VEHICLE   \n",
       "\n",
       "           text platform intent recordType                       responseText  \\\n",
       "0       sitting    VOICE   talk      start     SITTING is started at 12:31:54   \n",
       "1  stop sitting    VOICE   stop       stop     SITTING is stopped at 12:37:10   \n",
       "2       sitting    VOICE   talk      start     SITTING is started at 12:42:03   \n",
       "3  stop sitting    VOICE   stop       stop     SITTING is stopped at 12:48:03   \n",
       "4       vehicle    VOICE   talk      start  IN_VEHICLE is started at 12:42:34   \n",
       "\n",
       "   tag  count     time  \n",
       "0    0      1  Present  \n",
       "1    0      2  Present  \n",
       "2    0      1  Present  \n",
       "3    0      2  Present  \n",
       "4    0      1  Present  "
      ]
     },
     "execution_count": 51,
     "metadata": {},
     "output_type": "execute_result"
    }
   ],
   "source": [
    "df.head()"
   ]
  },
  {
   "cell_type": "code",
   "execution_count": 52,
   "metadata": {},
   "outputs": [],
   "source": [
    "df['time'] = df.tag.map({0:\"Present\",1:\"Past\",2:\"Future\"})\n",
    "# df.drop_duplicates(subset =\"timeStart\") \n",
    "df.to_csv('time_expression.csv')"
   ]
  },
  {
   "cell_type": "code",
   "execution_count": 53,
   "metadata": {},
   "outputs": [
    {
     "data": {
      "text/plain": [
       "userId          486\n",
       "timeStart       486\n",
       "timeStop        244\n",
       "act             486\n",
       "text            486\n",
       "platform        483\n",
       "intent          483\n",
       "recordType      483\n",
       "responseText    485\n",
       "tag             486\n",
       "count           486\n",
       "time            486\n",
       "dtype: int64"
      ]
     },
     "execution_count": 53,
     "metadata": {},
     "output_type": "execute_result"
    }
   ],
   "source": [
    "df.count()"
   ]
  },
  {
   "cell_type": "code",
   "execution_count": null,
   "metadata": {},
   "outputs": [],
   "source": []
  }
 ],
 "metadata": {
  "kernelspec": {
   "display_name": "Python 3",
   "language": "python",
   "name": "python3"
  },
  "language_info": {
   "codemirror_mode": {
    "name": "ipython",
    "version": 3
   },
   "file_extension": ".py",
   "mimetype": "text/x-python",
   "name": "python",
   "nbconvert_exporter": "python",
   "pygments_lexer": "ipython3",
   "version": "3.7.2"
  }
 },
 "nbformat": 4,
 "nbformat_minor": 1
}
